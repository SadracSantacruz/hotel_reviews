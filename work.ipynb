{
 "cells": [
  {
   "cell_type": "code",
   "execution_count": 154,
   "metadata": {},
   "outputs": [],
   "source": [
    "import pandas as pd\n",
    "import numpy as np\n",
    "import matplotlib.pyplot as plt\n",
    "import seaborn as sns"
   ]
  },
  {
   "cell_type": "code",
   "execution_count": 155,
   "metadata": {},
   "outputs": [
    {
     "name": "stdout",
     "output_type": "stream",
     "text": [
      "(38932, 5) (29404, 4)\n"
     ]
    }
   ],
   "source": [
    "train = pd.read_csv('train.csv')\n",
    "test = pd.read_csv('test.csv')\n",
    "\n",
    "print(train.shape, test.shape)"
   ]
  },
  {
   "cell_type": "code",
   "execution_count": 156,
   "metadata": {},
   "outputs": [
    {
     "data": {
      "application/vnd.microsoft.datawrangler.viewer.v0+json": {
       "columns": [
        {
         "name": "index",
         "rawType": "int64",
         "type": "integer"
        },
        {
         "name": "User_ID",
         "rawType": "object",
         "type": "string"
        },
        {
         "name": "Description",
         "rawType": "object",
         "type": "string"
        },
        {
         "name": "Browser_Used",
         "rawType": "object",
         "type": "string"
        },
        {
         "name": "Device_Used",
         "rawType": "object",
         "type": "string"
        },
        {
         "name": "Is_Response",
         "rawType": "object",
         "type": "string"
        }
       ],
       "conversionMethod": "pd.DataFrame",
       "ref": "d4275f76-8bf8-408d-b3aa-c046976882ca",
       "rows": [
        [
         "0",
         "id10326",
         "The room was kind of clean but had a VERY strong smell of dogs. Generally below average but ok for a overnight stay if you're not too fussy. Would consider staying again if the price was right. Breakfast was free and just about better than nothing.",
         "Edge",
         "Mobile",
         "not happy"
        ],
        [
         "1",
         "id10327",
         "I stayed at the Crown Plaza April -- - April --, ----. The staff was friendly and attentive. The elevators are tiny (about -' by -'). The food in the restaurant was delicious but priced a little on the high side. Of course this is Washington DC. There is no pool and little for children to do. My room on the fifth floor had two comfortable beds and plenty of space for one person. The TV is a little small by todays standards with a limited number of channels. There was a small bit of mold in the bathtub area that could have been removed with a little bleach. It appeared the carpets were not vacummed every day. I reported a light bulb was burned out. It was never replaced. Ice machines are on the odd numbered floors, but the one on my floor did not work. I encountered some staff in the elevator one evening and I mentioned the ice machine to them. Severel hours later a maid appeared at my door with ice and two mints. I'm not sure how they knew what room I was in. That was a little unnerving! I would stay here again for business, but would not come here on vacation.",
         "Internet Explorer",
         "Mobile",
         "not happy"
        ],
        [
         "2",
         "id10328",
         "I booked this hotel through Hotwire at the lowest price I could find. When we got there the front desk manager gave us a \"\"\"\"\"\"\"\"\"\"\"\"\"\"\"\"\"\"\"\"\"\"\"\"\"\"\"\"\"\"\"\"smoking\"\"\"\"\"\"\"\"\"\"\"\"\"\"\"\"\"\"\"\"\"\"\"\"\"\"\"\"\"\"\"\" room. I argued that I have a little baby and I would not have booked the room had I known it was smoking. The manager would not hear anything further and told me that Hotwire books the cheapest rooms that are available. So, from the get go I was very unhappy.\nAfter a great deal of persuasion and discussion, I got a nonsmoking room. Thereafter the room had the most minimal amenities. Besides the great location (near Dupont Circle), there was not much to say about this overpriced hotel. The room was small and in OK condition. The bathroom was small with a tub. The bathroom amenities were also minimal. We did not have a fridge or a microwave and had to again rent a fridge from the staff (to keep baby things).\nThe parking costs $-- per day so it is best not to drive here. Also the breakfast is not included. The lobby is very small and feels old. The only thing available is coffee in the lobby which is decent.\nAll in all, poor service, minimal amenities, small rooms, small bathrooms, no view, but great location. Some distance from the metro (either McPherson station or Dupont station). Try to look for better if available.",
         "Mozilla",
         "Tablet",
         "not happy"
        ],
        [
         "3",
         "id10329",
         "Stayed here with husband and sons on the way to an Alaska Cruise. We all loved the hotel, great experience. Ask for a room on the North tower, facing north west for the best views. We had a high floor, with a stunning view of the needle, the city, and even the cruise ships! We ordered room service for dinner so we could enjoy the perfect views. Room service dinners were delicious, too! You are in a perfect spot to walk everywhere, so enjoy the city. Almost forgot- Heavenly beds were heavenly, too!",
         "InternetExplorer",
         "Desktop",
         "happy"
        ],
        [
         "4",
         "id10330",
         "My girlfriends and I stayed here to celebrate our --th birthdays. We had planned this weekend getaway back in February, so we were all looking forward to it. There was - of us so we rented - ajoining rooms at the rate of $----night-room. We stayed - nights so with taxes and parking charges we spent in total over $----. All of us expected a certain level of service since we were staying at the Ritz, however this hotel certainly didn't meet what we would consider Ritz standards.\nThe rooms were fine. They were clean with well appointed bathrooms, but nothing to get excited about. The service however was awful. The first night we were there, I made -- calls to the bell man, before someone in hotel communications picked up the phone. Then on Saturday night before we left for dinner at -:--, we requested to have extra hotels delivered to our room and our trash removed. When we returned at --:--, neither request was fullfilled. I made another call to housekeeping and then finally things were taken care of. In my opinion, for the rates we were paying, we should have had nightly turn down service.\nI did speak with a manager when we checked out and he said he would make it worth our while to return, however all we received was a letter of apology.\nNeedless to say, we have no plans to return to this hotel. My husband and I stayed at the Four Seasons Boston in February of ---- and had a wonderful stay. The service there was impeccable as is service at all the Four Seaons that I have stayed at. If you are willing to pay Ritz Carlton prices, then I would recommend staying at the Four Seasons instead!",
         "Edge",
         "Tablet",
         "not happy"
        ],
        [
         "5",
         "id10331",
         "We had - rooms. One was very nice and clearly had been updated more recently than the other. The other was clean and the bed was comfy but it needed some updating (carpet was old and wrinkled for example). Great location for visiting Inner Harbor, getting to Fells Point, Orioles games etc. SuperShuttle from BWI worked great both ways. TV remotes in both rooms were terrible but we didn't watch much TV so not a big deal. Wireless was sketchy on --th and --th floors but again, didn't need it much - we were on vacation so it didn't really matter. Breakfast was good each morning. Would stay again if in town.",
         "InternetExplorer",
         "Desktop",
         "happy"
        ],
        [
         "6",
         "id10332",
         "My husband and I have stayed in this hotel a few times. Though not the fanciest hotel, we love the fact that we can walk the - or so miles to Fenway. It is clean and the staff is very accomodating. My only complaint is that the fan in the bathroom was noisy and went on automatically when you turned the light on and we tried to keep the light off as much as possible. We've stayed in pricier hotels which charged for internet and breakfast and these are both included. Will stay there again.",
         "Firefox",
         "Tablet",
         "not happy"
        ],
        [
         "7",
         "id10333",
         "My wife & I stayed in this glorious city a while back. SF is expensive, but we found this little hotel in a super location for a very reasonable price. By no means is it a --star hotel, but the room was clean, nice & well-appointed with quaint charm, despite being a bit small. Regardless of that, the staff was very helpful. I particularly enjoyed the wine-tasting evenings & the helpful, polite front desk.\nOverall, I'd recommend this place for singles or couples, but for children present, you probably need a bit bigger room. For the location & proximity to everything (including a marvelous little Mexican restaurant around the corner), you can't beat this place for the price. SF is a magical city with plenty of things to do, so I'd recommend just crashing here & seeing the wonderful surroundings more than hanging out in a room all day.\nWould recommend again for a getaway for -, but not for families because of the room size.",
         "Google Chrome",
         "Mobile",
         "happy"
        ],
        [
         "8",
         "id10334",
         "My boyfriend and I stayed at the Fairmont on a recent trip to San Francisco. I could not recommend this hotel more. \nI called the hotel a few weeks before to order a cake to be delivered to our room on our first night to celebrate my boyfriend's birthday. I was immediately connected directly to the pastry chef who helped me to design the most delicious cake I have ever eaten in my entire life! \nThe rooms are large and luxurious with a wonderful old-world feel. \n Most importantly don't miss a dinner at the Tonga Room! What a fun restaurant. Definitely order a Scorpion Bowl, but only if you’re staying in the hotel -- they're strong!!",
         "Internet Explorer",
         "Desktop",
         "happy"
        ],
        [
         "9",
         "id10335",
         "Wonderful staff, great location, but it was definately the price was high for a standard hotel. The free breakfast was great, actually pretty good quailty for a free buffet. This hotel is in the heart of it all, walking distance to everything. - things, please Hyatt...the coffee was bad and the white ginger line of shampoo-conditioner-soap smells horrible!",
         "Chrome",
         "Tablet",
         "not happy"
        ],
        [
         "10",
         "id10336",
         "Steps off Times Square, nice rooms, stayed - nights, great for a short visit.",
         "Internet Explorer",
         "Tablet",
         "happy"
        ],
        [
         "11",
         "id10337",
         "Me, the Wife and - kids stayed here on Valentine's weekend ----. Really a nice hotel in a great location. It is connected to the Rivercenter Mall in downtown San Antonio. It is within walking distance of all Downtown SA attractions, (Alamo, Riverwalk, Ripley's, ETC.) Great Service from the staff from beginning to end. I definitely HIGHLY recommend this hotel and would stay here again if ever in San Antonio for any reason.",
         "IE",
         "Mobile",
         "happy"
        ],
        [
         "12",
         "id10338",
         "We stay at the Jolly Madison over the Xmas period, the main feature is it's location. You are never far from most tourist attractions from this hotel. Grand Central Station is a short walk and gets you to other places you can't get to by walking (cheaper than yellow cabs - although you should also give this a go. We booked a cab with the hotel to take us back to the airport upon our departure and we got a limo - what a way to leave New York! This was certainly better than our inward travel. Got a transfer just outside the airport and spent -- minutes driving between terminals collecting other fares before arriving back at our original terminal and heading off to our hotel.\nOur room was on a top floor high which was great as it meant less traffic and street noise. We had some problems with the heater in our room but the reception staff eventually resolved this by providing us with a portable heater.\nWe did not eat at the hotel at all because diners and deli's are available in close proximity. The best meals we found were in China Town and at Planet Holywood. If you are planning to go to Planet Hollywood negotiate a travel within the main section of the restaurant before being shown to your table otherwise you may end up like us on the top floor overlooking the action and not in it.\nWe took part in typical tourist activities such as Ripleys and the CSI Experience. Disappointed with both unfortunately. Had hoped to see a broadway play but we left it to late and the only available tickts were $--- each. If you ant to get to the to of the Empire State bilding would suggest going early as the queue by mid-day will take at least an hour. The boat trips around New York are great and the best way to see the Statue of Liberty, The Brooklyn Bridge etc.\nMake sure you book the ---- Memorial at reception. Although very emotional it gives you a true understanding of the events which took place and an appreciation for life and the spirit of New Yorkers.\nThe store window displays, Xmas trees and ice skating rings are just amazing over Xmas. Ice skating on Xmas Eve on Xmas day was definetely a highlight and the Hot Chocolate with marshmallows and whipped cream is wonderful. Do be careful if paying for a padlock for the lockers. I forgot where ours was and soehow managed to gain access to someone elses ;-(\nStumbling across Times Square one evening whilst taking a stroll was enlightening literally. All of a sudden he colour of the sky was bright. There are so many illuminated signs and this area has a real buzz at night time. Didn't care too much for the hoards of people here during the day though.\nWe did use the hotel bar on our last evening. The bar man was nice and friendly. The bar room was a little odd and resembled a chapel or such like.\nWe were surprised at just how many people there were and how many shops remained open on Xmas day. This really is the town that does not sleep.\nOur only regret was not having longer than - days but there is always next time.",
         "Edge",
         "Mobile",
         "not happy"
        ],
        [
         "13",
         "id10339",
         "I highly recommend the Hawthorne Terrace as an affordable, comfortable spot in Chicago. The staff were pleasant, the room clean and spacious, and I really liked the neighborhood location. Tons of bars, restaurants, an improv spot and Wrigley Field are all within walking distance.\nWhile the hotel provides a Continental breakfast, I'd recommend going across the street (at least once) to Anne Sather's. The hotel also offers free wireless Internet access in the rooms. I would definitely stay here again!",
         "Internet Explorer",
         "Desktop",
         "happy"
        ],
        [
         "14",
         "id10340",
         "I found the hotel clean and nicely located. Good, free shuttle to the airport leaves twice per hour. The rooms aren't as nicely appointed as other springhill suited I have stayed at. The walls were thin I could hear a lot from adjacent rooms.",
         "Chrome",
         "Desktop",
         "happy"
        ],
        [
         "15",
         "id10341",
         "Stayed at the Elan from --th to --th October and, as we liked it so much, returned there after our - day trip to Vegas for another - nights. Unassuming in appearance, the hotel scores heavily for its great location, spotlessly clean, classically designed and very comfortable bedrooms, and the friendliness of management and staff. Jorge and his colleagues on the front desk were a revelation with their untiring and enthusiastic help in recommending great restaurants, places to visit etc. And management were particularly helpful in letting us have a complimentary room post-check out to freshen up for our evening flight home after a long day enjoying the Southern Cal sunshine.",
         "Mozilla",
         "Desktop",
         "happy"
        ],
        [
         "16",
         "id10342",
         "Priceline sent us to this hotel after accepting the bid at --- USD a night, tax included. We checked in the night before Thanksgiving with a family of four including my --year and --year old boys. Upon inquiry, the hotel staff gave us a room at the lowest level, the --th floor, facing Time Square. While this is a standard room at this hotel, we had a pleasant surprise the very next morning to watch the entire Macy's Thanksgiving Day Parade from the comfort of our room. The location of this hotel is just impeccable. I highly recommend those who wish to celebrate special events near Time Square to stay there. Maybe we will do it again for the New Year count down.",
         "Mozilla",
         "Tablet",
         "not happy"
        ],
        [
         "17",
         "id10343",
         "Old and cheap furnitures,our chair was simply destroyed,old painting on the wall,you feel like you are back in the --'s not ----...Kids running non stop early morning next to our door starting -am...The entire room shake...And for $---.....I don't think so!",
         "Google Chrome",
         "Desktop",
         "not happy"
        ],
        [
         "18",
         "id10344",
         "We stayed here for - nights and were really happy with it. It is located about --mins walk from the walk of fame and graumanns chinese theatre and is on most of the tour companie's pick up routes. Our room was nice and big and was very clean. Breakfast was included and it was really nice, the usual toast, cereal, pastries and cooked things. You also get free use of their internet in the business centre, as well as the gym and pool. The reception staff were really helpful in givin us directions etc. There is a minimart, subway and starbucks just across the road which is convenient. Also just off the walk of fame is a shopping mall with shops like Gap, Superdry, etc. There are also a few restaurants there as well. For anyone who likes pizzas I would recommend visiting the California Pizza Kitchen at the mall - pizzas are lush there and are rasonably priced. We got a shared bus to the hotel through Super Shuttle. It cost approx $-- return and pick ups occur every ----- mins from airport. Be warned of the way they drive tho, it was a slightly frightening experience after -- hours on a plane! \nWe didnt have a car there so did all organised tours, one through VIP tours and one through Starline Tours. The VIP tour was a tour of LA including Hollywood, Venice Beach, Downtown LA and Beverly HIlls. This lasted approx --- day and was really worth the money. We then did an escorted trip to Universal with Starline which was well organised and Universal is worth visiting!! We also went to Madame Tussauds on the walk of fame which had some good and bad statues!!\nOverall though the Holiday Inn Walk of Fame is worth staying at, its clean, convenient and has some nice free extras thrown in!!",
         "Google Chrome",
         "Mobile",
         "happy"
        ],
        [
         "19",
         "id10345",
         "The service was fine, but the hotel itself fell way below my expectations from such a respectable establishment as Hilton. They were nickel-and-diming me all the way. \n-. The carpet in the corridor is not very clean and it smelled weird there. The pool area was no better - actually, much worse. I wouldn't recommend going barefoot anywhere in that area. It's just dirty.\n-. The coffee maker in the room was broken - it made --- cup of coffee and then turned off. So if you want a full cup, you have to ask it - times. Of course, by then the cup is almost all cold. Good luck making tea with it, if you don't like ice tea.\n-. Once we have used the provided tea packs, room service didn't bother to replace them. Probably saved them a cent or so.\n-. There's no free internet access in the business center and no free printing. I am staying in various hotels a lot and wasn't used before to being charged dollar-a-minute for printing a simple page of driving directions. I was used to getting it for free, as it was in most hotels of this class I visited. Hilton, however, decided to save yet another ---- of a cent.\n-. Most hotels provide some sort of paper for the guests to write on. Hilton has post-it notes. Literally - tiny squares of paper, and that's it. If you want to write down something that's not - words - good luck, Hilton is not going to help, go find an Office Depot and buy it yourself. Here, another cent saved for Hilton. \n-. Parking pricing is outrageous - I've parked cheaper in San-Francisco downtown, no discounts or anything for hotel guests - but don't expect that to mean easy and convenient parking. Parking lot is crammed, and spending -- minutes looking for a random place somebody didn't notice, or trying to fit your car into the space that nobody dared to use because it's too small - is routine. All while a bunch of spaces stay empty - but general public is not allowed there, probably so that they can charge you ---% for valet parking in the same spot, in addition to the outrageous price paid for the parking - which a lot of hotels of this class provide for free. In Hilton, I not only got charged for it - I got charged twice in one of the days. They can't even make their system work properly.\nSummarily, the personnel of the hotel was very nice, welcoming and pleasant. They did what they could. However, the hotel itself fell below the expectations - I paid more than I expected to pay for less than I expected to get from Hilton. I understand the economy is tough and everybody has to save, but saving on a couple of sheets of paper and a couple of tea bags is too much for me. When I go to a brand-name hotel like Hilton I don't expect that. After this stay I would think twice - no, a dozen times - before ever staying at a Hilton establishment again. Hope the savings were worth it.",
         "Mozilla",
         "Desktop",
         "not happy"
        ],
        [
         "20",
         "id10346",
         "Having stayed at many Hilton properties, I expect a friendly efficient service from what is considered a good brand.\nThis property was a let down. Initially, things went smoothly. Check-in was fine, as a HHonors Gold member I was informed with an apology that they did not have an Executive Floor to upgrade me to, but put me in a - bedroom suite and offered me a complimentary buffet breakfast and the usual wifi vouchers. This is where the good things ended.\nThe room had issues. Initially, the phone in the living room did not work. They sent someone up to fix the phone, and then some --- hours later it just started randomly producing high pitched beeps (which in turn woke me up). In addition, the guest compendium was empty (as in someone had removed the pages). It took - phone calls and - people to come up to my room to actually understand what I was requesting, and deliver a full compendium.\nI also had cause to contact and visit the front desk at various stages later in the evening during my stay. To say the night staff were next to useless would be an over-statement. The night manager basically said nothing to my requests, or as little as possible. They treated me like I was putting them out of their way and disrupting them being lazy. One particular staff member was so bad I wrote a separate complaint to Hilton about them.\nI also witnessed a lady in obvious distress attempting to get a room late one evening. When they informed her she was not able to get a room without photo ID she became upset and aggravated. She ranted a little bit about 'if I get murdered tonight, it'll be on your conscious' to which the night manager replied \"\"\"\"\"\"\"\"\"\"\"\"\"\"\"\"\"\"\"\"\"\"\"\"\"\"\"\"\"\"\"\"That's ok Ma'am, I have no conscious\"\"\"\"\"\"\"\"\"\"\"\"\"\"\"\"\"\"\"\"\"\"\"\"\"\"\"\"\"\"\"\". \nI've never seen such rude staff. Would I stay there again? Definitely not by choice.",
         "Firefox",
         "Mobile",
         "not happy"
        ],
        [
         "21",
         "id10347",
         "This is everything you could want from a hotel - convenient location a short walk from everything in uptown Charlotte, well-equipped room (fridge and microwave as well as the usual coffee maker), and efficient staff. When we first checked in and went to our room, our room card would not work. In less than -- minutes, a repairman arrived at our room to let us in and dismantle and reprogram the door lock. There is also free wi-fi in the room - an all too rare feature in hotels.\nMy only issue was trying to do online check-in for our flight from our room and not being able to follow the instructions for printing our boarding passes. The printer is in the business centre, and while the instructions say that you can send you document there to be printed from your room, it would have been easier to just go to the business centre and use the computer there to check-in and print.",
         "Firefox",
         "Desktop",
         "happy"
        ],
        [
         "22",
         "id10348",
         "I very much wanted to stay at a boutique hotel near Times Square in lieu of a Hilton or Marriott type. After some research, hubby and I compromised on The Paramount after seeing the price of their modern chic rooms on the website. When we checked in we were both excited about the impressive lobby. Very us. BUT we were royally disappointed when we entered our King Deluxe room. Womp womp womp...\nI'm normally a very flexible-laid back, go with the flow gal but this just wasn't what I was expecting at all.\nThe pictures seemed to be photo shopped bright and welcoming on the website. In reality, the room was entirely too small and the bathroom lacked a lot of luster. The room just seemed so dark and small. Just NOT what we had in mind for our - night NYC experience. The money spent renovating this hotel was obviously poured into the more public areas of the hotel. The closet would better be described as a compartment to store ~- jackets so our suitcases took up the little floor space we had.\nWe headed downstairs and explained our concerns and requested upgrade options. I inquired about their Entertainment and Couture suites displayed on their website as they are the only ones displayed. Do you know what they told me?! The available suites displayed on their website are only used for corporate events and fashion shoots. I was dumbfounded. I encouraged them to provide keys to the suite that they DO have available for purchase so that I can see it before we accept the upgrade for an additional $--- for our - nights in NYC. We saw it and it was another womp womp womp. They had simply take a wall and corned off - rooms at the end of the hallway. Even the rooms still had the heavy secure hotel door separating the bedroom from the living room AND the exit sign still existed in the cornered off wasted space in the entrance of the suite. The bedroom in the suite had a double bed. My husband and I are very tall and we by no means intend to share a double bed while paying for a suite. Desperately trying to see the positive, I looked out the window to see if our view had been upgraded. View from Times Square? It had been a bit but a partial view of lights from Times Square and the back of a billboard just wasn't worth it to me. Womp womp womp.\nWe headed back downstairs, handed them the suite key and stated that we will only be spending - night at The Paramount and would be checking out the following day. (Obviously, it was too late to cancel our room that night and not pay a fee, etc.) The customer service was very kind so I hadn’t the heart to share my disappointment. I'm sure it was obvious by our actions at that point.\nI've attached a picture of my hubby stretching out his hands so that you get an idea of just how small the King Deluxe room is. Note our luggage covering the entire opposite side of the bed. No point in showing you the view out the window, it was the back of a building.\nIf you care to know:\nNYC was insanely booked everywhere last week. We did manage to secure - nights at The Bowery (LOVED it, ---% guarantee that we will return) and the - other nights of our trip were spent at the Marriott on Times Square with an incredible view of Times Square.",
         "Edge",
         "Tablet",
         "not happy"
        ],
        [
         "23",
         "id10349",
         "I really liked this hotel. The staff were wonderful and quite helpful in providing advice about visiting Old Town and things to do in San Diego. In the lobby-reception area, there was a table set up with ice water, coffee, etc., which was very convenient and appreciated. There is a little sitting area off of the check-in area with brochures galore, so you can sit & relax, drink coffee & look at brochures. Adjacent to this is the place where they serve breakfast. They really do serve a nice breakfast, waffles, etc. The hotel rooms are nice. Nothing fancy, but pretty spacious, clean and comfortable. Overall for the money, I thought I did pretty well in booking this hotel. Good value for the money.",
         "Chrome",
         "Desktop",
         "happy"
        ],
        [
         "24",
         "id10350",
         "My wife and spent - days there this month as a New York getaway vacation Christmas present to each other. Our stay overall was terrific. The quality, size, quietness, and location of the room was supurb. Every staff member was friendly and willing to help. Complimentary wine reception every evening was a definite plus. We felt comfortable from the moment we arrived and were reluctant to leave. The Muse is a calm oasis in the bustle of New York City. As a Kimpton InTouch member we were upgraded automatically to a superior king room. It was large well appointed and quiet with a view down --th street. The bed was extremely comfortable. They just began a complete renovation of the lobby so there may be some inconvenience until it is completed. Our only bad experience was the District Restaurant. We ate there Sunday for breakfast. Service was mediocre, the bacon and eggs were both overcooked and it was tremendously over priced. Such a fine hotel should not have such a bad restaurant. Other than that I would recommend this hotel very highly.",
         "Chrome",
         "Desktop",
         "happy"
        ],
        [
         "25",
         "id10351",
         "We stayed at this hotel for two nights over the busy Labor Day weekend. \nWe arrived at about -:--am after flying in on a red eye. Our room wasn't ready but we were told that since the housekeeping staff began at -:--am, and that the guests previously in our room had already checked out, that our room would be ready for us by --:--am. We went to breakfast and returned at --:-- and were told that our room was still not ready. We waited another ninety minutes and checked back with the front desk and were told that they would put a rush on our room with housekeeping, that they were in the process of cleaning it, and to come back in a half an hour. We did, and the room still wasn't ready. By that time we were both exhausted and perhaps the front desk person took pity on us and upgraded us to a junior suite. \nThe room was quite large especially for New York hotel rooms. We had views of the street from two sides, which we enjoyed, but it was noisy. It didn't bother us, but I think it would wake up a light sleeper. The bed was comfortable and the reading lights had dimmers. The desk was large and had a power strip.\nWe chose this hotel over the other InterContinental in New York City because of the price, location, and previous reviewer's glowing comments. There were a few little details that just didn't compare with previous experience we've had with this hotel brand.\nThe furniture looked a bit shabby with scuff marks on the table and tired looking furniture, chipped paint. The bathroom had a light fixture hanging loosely from the ceiling. There was some mold on the ceiling in the shower area. There were a couple of times that I had to wait over five minutes for hot water in the bathroom and the bathroom sink had a constant drip. One of our towels had a large hole in it. I know it sounds like nit-picking, but I've become accustomed to a certain level of expectations when staying at an InterContinental hotel, and for the reasons above, the Barclay didn't meet those expectations, in my opinion.",
         "Opera",
         "Mobile",
         "not happy"
        ],
        [
         "26",
         "id10352",
         "Took a girls trip to LA and had no idea where to stay. After research we settled on Elan. I'm so glad we did. Very nice, clean, handy hotel. There is no restaurant but that was fine by us. They had a continental breakfast in the am and wine and cheese in the evenings. We went out to dinner anyway. That's kinda the point of visiting LA---eat! The hotel staff was wonderful, particularly Michael O and Michael K. Both were soooo helpful from making the reservation to suggestions on where to go, shop, eat....They always made sure we had a cab when we needed it and made excellent suggestions. I would absolutely stay there again.",
         "InternetExplorer",
         "Mobile",
         "happy"
        ],
        [
         "27",
         "id10353",
         "Stayed with my girlfriend for a long weekend. \nThey gave us a nice comp upgrade at check-in...thanks! Hotel is beautiful, service is good. \nFor a five-star, it fell short in a couple of areas...\nThere was a large, very gross looking yellow stain on the comforter. We had to ask that they bring a new one. Not a pleasant sight.\nAlso, a couple of guys on the bell staff were blatantly ogling my girlfriend as we were walking to the elevator...very tacky. Granted, she's very attractive but you would think the staff would have a little more class than that.\nAll in all, great place and we would highly recommend.",
         "Mozilla Firefox",
         "Desktop",
         "happy"
        ],
        [
         "28",
         "id10354",
         "I have stayed here numerous times and never been disappointed. The staff is helpful but not overbearing. The location is fantastic. The price is right. It is clean and the business center is in a living room!",
         "Mozilla",
         "Mobile",
         "happy"
        ],
        [
         "29",
         "id10355",
         "The public areas are nice to look at. The staff at reception were helpful and check-in was met with a warm greeting. The staff in other areas were mostly courteous and professional but the bar staff was wooden and unhelpful. The room itself was a decent size but not big. Furnishing were comfortable enough. The internet was unbelievably slow and had to call the hotel's IT department - times to troubleshoot problems. Not acceptable as they charge $-- a day for internet service. If you use the valet service, expect to wait upwards of -- minutes whenever you want your car. Returning in the evening after dinner, waited about -- minutes to be acknowledged by a member of the valet team. The staff seemed to smile alot but lacked any substantive abilities when dealing with any issues. Had a minor problem with my booking that took far longer than necessary to resolve as the staff were dense and difficult to talk to, as though it were their first day on the job. This hotel seems a magnet for conferences but I couldn't recommend this place for business or leisure purposes. There are much better choices for the money they charge.",
         "Firefox",
         "Tablet",
         "not happy"
        ],
        [
         "30",
         "id10356",
         "Denver is an excellent city to visit and this hotel makes that visit all the better. Although Hampton Inn is on the lower end of the Hilton family, this particular hotel out does many higher ranked chains by providing a well managed facility with great touches like free wireless, free hot and cold breakfast and a young but highly trained staff. \nThe only con about the hotel is the parking. It is costly to park any where in downtown denver but this is true for any metropolitan area. The proximity of this hotel to interesting locations nearby for fun and dining makes it worth the extra cash to have a place to park. \nHighly recommended.",
         "Mozilla",
         "Tablet",
         "not happy"
        ],
        [
         "31",
         "id10357",
         "I really liked this hotel alot. \nStaff was extemely friendly and helpful. Rooms and common areas were very modern and looked very well maintained. If you chose to eat in, there was a nice little kitchenette. Great internet service. \nShort walk to the riverwalk. \nIf I had one thing to complain about, the breakfast selection was a little light, well at least for my taste. \nGiven that, I would definitely consider Home - suites if I were to visit this area again. (And I hope too)",
         "Mozilla Firefox",
         "Tablet",
         "happy"
        ],
        [
         "32",
         "id10358",
         "We could easily have stayed here for longer on our trip through California. It's a delightful Inn that is totally unique in its surroundings. It stands out on the block as no ther buildings look the same as this one.\nAll of the rooms are traditionally decorated, elegant and rich . We had the Garden Room with large comfortable bed dressed with antique bedding. This room has a Victorian tiled ensuite shower room which looked lovely and functioned perfectly\nWe enjoyed the breakfast of homebaked scone and a choice of cooked bacon and eggs. \nYou'll love this place if you appreciate period details and individual flavour. If you want all mod cons like a coke machine, coffee makers and trad American breakfasts then it isn't for you. \nWe walked to Bilboa Park and the zoo but didn't explore enough in the evening to find a restaurant to recommend - it seems a quiet neighbourhood. We made it to wine tasting though and enjoyed chatting to the hostess and other travellers",
         "Google Chrome",
         "Mobile",
         "happy"
        ],
        [
         "33",
         "id10359",
         "I booked three nights at the Inn at El Gaucho based on the reviews from tripadvisor.com. When my boyfriend and I arrived after a - hour flight from NY, we were happy that the Inn is located only -- minutes from the airport by taxi. The hotel is located on the second floor of a steakhouse, with no elevator and no bellhop, so we had to carry our bags up a flight and a half of stairs. (I knew about this from the reviews, but after a long flight I had forgotten!) The woman at the front desk was very helpful, even leaving to personally check if the room was ready because we had arrived early for check-in. It was, and she gave us a large cold bottle of Evian, a goodie bag with large cookies and a CD, and a short tour of our room and its amenities. We were also given - room keys, which is helpful. \nThe room was a suite (they are all suites) facing -st Avenue. The bed looked like one large pillow and it was amazingly soft and comfortable. We had to force ourselves, after testing it, to get up and do some exploring around town. The room had a --\"\"\"\"\"\"\"\"\"\"\"\"\"\"\"\"\"\"\"\"\"\"\"\"\"\"\"\"\"\"\"\" TV which came in handy because we were there to see the Seahawks VS. Giants that Sunday at Quest Field Stadium, so we were able to keep track of the teams and highlights on a picture-perfect TV. The bathroom had a stall shower and was pretty basic - hairdryer, lots of towels, and complimentary toileties. The room closet had a dresser, iron and board, and - ultra-soft bathrobes. There was also a seperate coffee-office closet which was pretty convenient, yet out of the way. And the leather sofa and chair were nice, as well. The most useful thing in the room was the pile of Seattle guides on the sofa table. We used that to find all the restaurants for our entire stay. \nThe Inn is located only a half mile from Seattle Center (with Space Needle) and less than a mile striaight down -st to Pike Market. It's only a little further to Pioneer Square and Quest Field Stadium. And it's only - blocks away from the Seattle Port. First Avenue has an abundance of restaurants and shops so you won't have to worry about taking a taxi to dinner. (There's even a big umbrella for you in the room closet, just in case you have to take a short walk in the rain!) \nOverall, we were so happy with our choice that when we go back to Seattle for whatever reason, we will be staying there. The location, the comfort, the moderate price ($--- a night in Seattle is hard to beat) and the friendliness of the female employees made it a perfect stay!",
         "Firefox",
         "Desktop",
         "happy"
        ],
        [
         "34",
         "id10360",
         "Looking for a tranquil retreat in Denver that is close to great restaurants, shopping, the Botanic Gardens, the Art Museum in theCherry Creek neighborhood? This is the place!\nWe had read about slow parking valet times, but our waits for the retrieval of our car averaged two minutes! I suppose if you wanted your car during intervals of high turnover (check-in and check-out), it might takelonger. I suggest you ask the valet staff if you are concerned.\nBack to the hotel room,we specified a room with mountain views and got a nice one. Large large bathroom with separate tub and bath appointed with marble floors and granite countertops. rooms facing west in the summer, you might want to leave your AC a little lower before you leave for dinner. Linens comfortable and pretty. The wallpaper was bold and dramatics...nice touch!\nHope to return soon for another relaxing stay...eat and drink at North restaurant...-- steps from the front door of JW Marriott. You will not be disappointed!",
         "Mozilla",
         "Desktop",
         "happy"
        ],
        [
         "35",
         "id10361",
         "Booked - rooms, at check-in they upgraded all of us--- rooms to suites. The front desk staff AJ, was wonderful, made us feel great. Didn't use the pool, so I can't write about it. Right across the road from Texas Roadhouse. The breakfast had scrambled eggs, biscuits & gravy, waffles. Will stay there again.",
         "Firefox",
         "Tablet",
         "happy"
        ],
        [
         "36",
         "id10362",
         "I stayed here last Thursday - Sunday. I attended a business workshop on Friday, and my hubby and I stayed through the weekend for leisure. Check-in was smooth and fast, and the staff were courteous and knowledgeable. The lobby is nicely decorated in a contemporary style, but the building sure shows its age once one heads up to the guestroom floors. The woodwork outside our room was so battered looked as if someone had been hacking at it with an ax. \nOn the positive side, I liked the overal design of the room, and the bedding was of nice quality. But there were some serious flaws. The bathroom cabinet was cracked so severely that some of the wood veneer had copletely fallen off. And, although I asked for a nonsmoking room, the place smelled strongly of smoke. We are not smokers and didn't spend any time with smokers during our trip, but our clothes absorbed the smell from the room. When we got home and unzipped our suitcases, the smell of smoke was extremely strong. I had to dryclean the brand new overcoat that I had just purchased that very weekend at Saks.\nOther positives about this hotel are the location. It was very convienient to Magnificent Mile shopping and attractions. The cafe attached served great coffee, and I never waited more than a couple of minutes for my order. And, again, the staff were helpful and pleasant. \nOverall, the room was a good value, but the the stay would have been much more pleasant if this hotel made some basic maintenance efforts.",
         "InternetExplorer",
         "Desktop",
         "not happy"
        ],
        [
         "37",
         "id10363",
         "I'm not a fan of hotels so hate business travel but this hotel was a real pleasure. Fantastic pop-art style, enthusiastic staff, modest rooms with elegant 'pop' furnishings (I hate overstuffed rooms). Great location, though a little bit of a walk to nearest Metro station.",
         "Chrome",
         "Tablet",
         "happy"
        ],
        [
         "38",
         "id10364",
         "My first stay at a Kimpton property was on a Friday, for a business trip in DC. I booked a room at Donovan House with - criteria in mind: location, and value. The location of the hotel was convenient, as it was near the National Mall and government offices but also within - mile of several other points of interest. I based value on the overall perks-to-cost ratio. It's not scientific, but based on the feeling of, \"\"\"\"\"\"\"\"\"\"\"\"\"\"\"\"\"\"\"\"\"\"\"\"\"\"\"\"\"\"\"\"did I get a good deal?\"\"\"\"\"\"\"\"\"\"\"\"\"\"\"\"\"\"\"\"\"\"\"\"\"\"\"\"\"\"\"\"\nThe first impressiom of the services was upon entering the parking garage. Valet parking is available on-location, but for the steep price of $---day. They may have mentioned that detail on the website, but I still think the Kimpton management could negotiate a better contract or reduce the overhead fee. Parking for one night added an extra --% to my overall cost. The lobby is crisp and decorated in modern style-color scheme with unique lucite bubble chairs. The decor didn't have much of an effect on my mood, since the mod furniture and walls were predominately upholstered in aubergine and burgundy shades of vinyl. I guess it just wasn't my taste, though the eye catching details could be perceived as young and fresh.\nUpon check-in at -:-- pm, the friendly receptionist informed me that my room was not ready due to cleaning (?!) but that I could be upgraded to a suite. Softening the blow was the fact that I had arrived just before wine hour, which, according to my research is a standard Kimpton perk. Sweet. After pushing my way past a bellhop carriage stacked with supply boxes, I waited for the elevator in the narrow corridor. On the --th floor, my spacious suite greeted me with the stale smell of cigarette smoke-as though it had formerly been a smoking room (though Kimpton properties are smoke-free as the room placard informed me, this hotel recently changed management). The area rug that overlayed the carpeting was askew. This wasnt necessarily a sign of uncleanliness but probably that nobody checked the room before my arrival. The rest of the room was exceptional: crisp Sferra linens on the bed and duvet, a clean bathroom with a large soaking tub and designer shower that were consistent with the other elements. After a quiet and comfortable night's rest, I took advantage of the complimentary coffee bar in the lobby. The brew was exceptional-was encouraged to take a second cup to-go, as well as a bottle of water. Detail-oriented hospitality was top-notch, and I have no doubt that the staff would go out of their way to assist any guest. Due to time constraints, I wasn't able to enjoy the rooftop pool and bar that are features of the property. Overall rating: ----. Be sure to check AAA and government rates if you qualify.",
         "Firefox",
         "Desktop",
         "not happy"
        ],
        [
         "39",
         "id10365",
         "I had a runaway this weekend to the Ritz and was disappointed. The room was amazingly noisy. The air conditioning didn't work--even after engineering said it was fixed the temperature kept goin up. The roll on my burger was stale and hard.... I expected so much more.",
         "Edge",
         "Desktop",
         "not happy"
        ],
        [
         "40",
         "id10366",
         "Okay the hotel-motel may not be a - star appearance and the rooms are well they are rooms.. but for the money - I have a fridge, hot breakfast, free internet, nice pool and pool hang out area, quiet neighborhood day and night yet only blocks from stores, waterfront, and restaurants and a nice sized balcony and free milk and cookies at -pm. Not bad at all... \nBut it gets better - I am a priority club member (but anyone can be.. just sign up for free) and I must say its been a long time since I was greeted so kindly on check in (for being a valued priority club member), and given a check in present (lotion and razor in a beautiful carrying bag) and upgraded to a room looking towards the bay and allowed early check in (-- am) and a managers greeting from ----- every weekday with FREE ALCOHOL and nibbles. Okay.. I admit... I felt more \"\"\"\"\"\"\"\"\"\"\"\"\"\"\"\"\"\"\"\"\"\"\"\"\"\"\"\"\"\"\"\"special\"\"\"\"\"\"\"\"\"\"\"\"\"\"\"\"\"\"\"\"\"\"\"\"\"\"\"\"\"\"\"\" staying here than staying at the Hilton last week... and holiday Inn costs almost half as much...",
         "Mozilla",
         "Mobile",
         "happy"
        ],
        [
         "41",
         "id10367",
         "We are starwood preffered guest members and got a rate of --- for a saturday night so we jumped on it for a quick getaway. We arrived to a -th floor lakefront view and a great little room. The hotel looked really nice. The lobby was really cute, as most W's are, and the gym looked amazing. Pool didn't look too bad either but we didn't use it. WE had drinks at the bar and the bartenders were great. We went to see a show so we took a cab. When we got back later that night they had a DJ in the lobby so we had a few martinis. We went back up the room and ordered room service which was just find until there was a long blonde hair actually inside my burger which ruined the meal. The next day we had breakfast in the lobby restaurant which was excellent, and then we went to the spa and each had an -- minute treatment that was excellent. The spa was very nice and I took advantage of all the locker room amenities. Overall it was very nice, minus the roomservice mishap. The rooms are very modern but clean. The only major flaw was that the room is small to begin with and the put slat wood sliding doors and a window on the bathroom, so there isn't much privacy. \nI laughed that the mini bar had emergency contraception supplies next to a W teddy bear, as well as room service breakfast that was fruit, whipped cream, chocolate syrup, champagne, and hold your calls for an hour for $---.",
         "Internet Explorer",
         "Mobile",
         "happy"
        ],
        [
         "42",
         "id10368",
         "I was in town for a conference at McCormick Place and stayed at the Wyndham Blake for two nights. Yes, the location is slightly away from the main flow of traffic but that is what made it great for me. Quiet area. Short taxi ride to MP was fine with me as well. Took orange line from Midway, got off at the Library stop and short walk to hotel. Right across the street is a Ginos so if you need your fill of Chicago deep dish, Ginos is there to assist. \nThe hotel is quaint. Older buildings which have been merged to house the rooms. Very good service from check in to check out. At night, a bar is beside the lobby area with comfortable seating. Very relaxing space. As for the room, I was a large room with a King bed. Clean. The bed was very comfortable with crisp linens. Decor was fresh. View out of the window was the brick wall of the building next door. Did not bother me as I was only in the room to sleep and do some end of the day work. The bath was also very good size with a walk in shower....very nice. Another reviewer noted the rain head for the shower and low pressure. I will take the other side of the commentary. The pressure in the shower was very good and I loved the oversized rain head. If you did not like the downward stream, you could direct it slightly to get more of a traditional shower experience. I liked it so much, I am adding one to my soon the be remodeled bath. The only negative about the shower was the caulking had some mold. Maintenance needs to scrap out the old and replace with a tan colored caulk. \nOverall, I am very pleased with the property and would stay there again without hesitation.",
         "Edge",
         "Tablet",
         "happy"
        ],
        [
         "43",
         "id10369",
         "We stayed at the hotel just two weeks ago and I'm still so impressed. \nFrom the moment we walked into the clean and accommodating lobby, to the check in process, room (more on that in a moment!), and most importantly - a most professional, helpful and awesome staff.\nWe were blown away. I've stayed in Manhattan more times than I can count - this is by FAR the best hotel experience I've had (sorry Ritz.)\nWe were upgraded to the Penthouse level (yay Hyatt rewards program!). Oh-em-gee .... a roof patio! The room was gigantic - especially by NY standards. The lounge is awesome and I'm in love with their espresso machine. The concierge was very helpful and we had a few ideas where we wanted to dine the last night and Eataly was great experience. She suggested it for a unique experience over the hotel restaurant. \nMost of all - the staff went above and beyond. Jordan was so awesome - he handled our check in (room wasn't quite ready, so he had us relax in the lounge while he handled check in) and he risked life and limb during an epic thunderstorm on our -nd day to score us a taxi to get to an appointment on time. \nI will not think twice when booking my next hotel in NYC - Hyatt -- Lex is terrific hotel and excellent value. Yes, you can find cheaper hotels. But I found it to be terrific value for NYC and we enjoyed the amenities. Wow. Such an outstanding experience and I can't wait to return.",
         "Chrome",
         "Desktop",
         "happy"
        ],
        [
         "44",
         "id10370",
         "Comfortable rooms,a little glitzy for my taste which tend to be reasonably priced. Thats because the factilites are a little limited. There is a quiet bar area and there is a restaurant attached where breaksfast is served - but that is it. Rudimentary gym \nRoom service is OK, save that they ask $-- for a pot of tea! \nMake sure you ask for a room overlooking the street. The hotel is rectangular with a central void space which half the rooms look out on. So you tend to have to leave the curtains drawn all day.",
         "Internet Explorer",
         "Desktop",
         "happy"
        ],
        [
         "45",
         "id10371",
         "Got a awesome rate here - $-- a night for a Radisson in NYC. Good location - about - blocks from Grand Central Station, about - blocks from Rockefeller Center. Away from the chaos and noise of Times Square but close enough to walk to sites and subway stops.\nRoom was a good size, especially for NYC, desk, flat screen, - drawer dresser, closet with safe and our room had - twin beds. Both room and bathroom were clean. \nNegative is the windows are definitely not soundproof, had asked for a high floor and unfortunately didn't get one - was told it wasn't available but could ask again the next night. We heard all the noise -trash trucks, sounds outside, etc..honking, sirens. \nOther then not having soundproof windows, I would recommend staying here - nice place and nice location",
         "InternetExplorer",
         "Desktop",
         "happy"
        ],
        [
         "46",
         "id10372",
         "We booked this hotel based on the fairly good reviews, but our experience combined with the price of the room, make it a disappointment. Hotel is well located with a couple of good places to eat and a Starbuck within walking distance. The walk to the Grand Central Station is of about -- minutes. Staff was friendly, but when we ask for help to print one page with the reservation for the ---- Memorial, they referred us to a computer and printer they have in the lobby, which costs a minimum of - USD. Moreover, when we ask for help for transportation to JFK, they recommended a town car for -- USD and when we asked about the airport shuttle they did not recommend it and gave us another price than the real one, which we found weird. We ended taking the bus for -- USD each and it worked just fine. The room was large bur very worn and not very clean. There was a kitchen but no pots. I will only recommend this hotel if you get it for a very reasonable price. In a future NYC trip I will for sure stay somewhere else.",
         "Edge",
         "Mobile",
         "not happy"
        ],
        [
         "47",
         "id10373",
         "We spent - nights at the Sofitel Washington from Friday -------- to Tuesday --------. The check in process was speedy a most friendly. We made a special request at was accommodated without fuss or any attempt to collect extra fees. The staff is polite friendly and service was seamless. Our room booked through Expedia was clean and spacious with very nice amenities. The staff will always greet you with a friendly Bonjour or Bonsoir every time they see you... The Sofitel is a bit of Paris in DC! Very charming.",
         "Chrome",
         "Mobile",
         "happy"
        ],
        [
         "48",
         "id10374",
         "The lobby and rooms are clean, chic and lovely, and we found an attentive staff who promptly delivered extra pillows, ironing board and iron and gave us a free box of cashews when the ones we opened from the honor bar proved stale. Our only real objection was a very small room with no room for an ironing board to begin with, queen, not king size bed, tiny closet and no place to put your luggage so it has to be opened on the floor. Sound transference between rooms was also a problem along with door slamming in halls. On balance this was a good value b-c we paid under $--- on Hotwire, but I would have been bummed if I'd paid full freight.",
         "Internet Explorer",
         "Mobile",
         "happy"
        ],
        [
         "49",
         "id10375",
         "this trip to new york was organized by my fiance for my birthday and this place was incredible. The hotel room was unforgettable because located on the -- th floor. The walls facing the bed are the windows so you have the impression to be in the clouds. GREAT VIEW (room ----)!!! Room very quiet and the bedding is good quality! However, one negative point: I stayed for - nights and the first morning we left at -am and when we returned at -pm the room still wasn't done! the maid arrived at -pm to clean the room! I didn't ask for anything because i did the bed by myself at -pm ! for the remaining services, the hotel is new so the staff is not perfect but they try! nice snack in the morning with coffee and a choice of - different muffins ! I recommend it for the room with this amazing view!",
         "Edge",
         "Desktop",
         "happy"
        ]
       ],
       "shape": {
        "columns": 5,
        "rows": 38932
       }
      },
      "text/html": [
       "<div>\n",
       "<style scoped>\n",
       "    .dataframe tbody tr th:only-of-type {\n",
       "        vertical-align: middle;\n",
       "    }\n",
       "\n",
       "    .dataframe tbody tr th {\n",
       "        vertical-align: top;\n",
       "    }\n",
       "\n",
       "    .dataframe thead th {\n",
       "        text-align: right;\n",
       "    }\n",
       "</style>\n",
       "<table border=\"1\" class=\"dataframe\">\n",
       "  <thead>\n",
       "    <tr style=\"text-align: right;\">\n",
       "      <th></th>\n",
       "      <th>User_ID</th>\n",
       "      <th>Description</th>\n",
       "      <th>Browser_Used</th>\n",
       "      <th>Device_Used</th>\n",
       "      <th>Is_Response</th>\n",
       "    </tr>\n",
       "  </thead>\n",
       "  <tbody>\n",
       "    <tr>\n",
       "      <th>0</th>\n",
       "      <td>id10326</td>\n",
       "      <td>The room was kind of clean but had a VERY stro...</td>\n",
       "      <td>Edge</td>\n",
       "      <td>Mobile</td>\n",
       "      <td>not happy</td>\n",
       "    </tr>\n",
       "    <tr>\n",
       "      <th>1</th>\n",
       "      <td>id10327</td>\n",
       "      <td>I stayed at the Crown Plaza April -- - April -...</td>\n",
       "      <td>Internet Explorer</td>\n",
       "      <td>Mobile</td>\n",
       "      <td>not happy</td>\n",
       "    </tr>\n",
       "    <tr>\n",
       "      <th>2</th>\n",
       "      <td>id10328</td>\n",
       "      <td>I booked this hotel through Hotwire at the low...</td>\n",
       "      <td>Mozilla</td>\n",
       "      <td>Tablet</td>\n",
       "      <td>not happy</td>\n",
       "    </tr>\n",
       "    <tr>\n",
       "      <th>3</th>\n",
       "      <td>id10329</td>\n",
       "      <td>Stayed here with husband and sons on the way t...</td>\n",
       "      <td>InternetExplorer</td>\n",
       "      <td>Desktop</td>\n",
       "      <td>happy</td>\n",
       "    </tr>\n",
       "    <tr>\n",
       "      <th>4</th>\n",
       "      <td>id10330</td>\n",
       "      <td>My girlfriends and I stayed here to celebrate ...</td>\n",
       "      <td>Edge</td>\n",
       "      <td>Tablet</td>\n",
       "      <td>not happy</td>\n",
       "    </tr>\n",
       "    <tr>\n",
       "      <th>...</th>\n",
       "      <td>...</td>\n",
       "      <td>...</td>\n",
       "      <td>...</td>\n",
       "      <td>...</td>\n",
       "      <td>...</td>\n",
       "    </tr>\n",
       "    <tr>\n",
       "      <th>38927</th>\n",
       "      <td>id49253</td>\n",
       "      <td>We arrived late at night and walked in to a ch...</td>\n",
       "      <td>Edge</td>\n",
       "      <td>Desktop</td>\n",
       "      <td>happy</td>\n",
       "    </tr>\n",
       "    <tr>\n",
       "      <th>38928</th>\n",
       "      <td>id49254</td>\n",
       "      <td>The only positive impression is location and p...</td>\n",
       "      <td>InternetExplorer</td>\n",
       "      <td>Mobile</td>\n",
       "      <td>not happy</td>\n",
       "    </tr>\n",
       "    <tr>\n",
       "      <th>38929</th>\n",
       "      <td>id49255</td>\n",
       "      <td>Traveling with friends for shopping and a show...</td>\n",
       "      <td>Firefox</td>\n",
       "      <td>Mobile</td>\n",
       "      <td>not happy</td>\n",
       "    </tr>\n",
       "    <tr>\n",
       "      <th>38930</th>\n",
       "      <td>id49256</td>\n",
       "      <td>The experience was just ok. We paid extra for ...</td>\n",
       "      <td>Chrome</td>\n",
       "      <td>Desktop</td>\n",
       "      <td>not happy</td>\n",
       "    </tr>\n",
       "    <tr>\n",
       "      <th>38931</th>\n",
       "      <td>id49257</td>\n",
       "      <td>The Westin is a wonderfully restored grande da...</td>\n",
       "      <td>Mozilla</td>\n",
       "      <td>Desktop</td>\n",
       "      <td>happy</td>\n",
       "    </tr>\n",
       "  </tbody>\n",
       "</table>\n",
       "<p>38932 rows × 5 columns</p>\n",
       "</div>"
      ],
      "text/plain": [
       "       User_ID                                        Description  \\\n",
       "0      id10326  The room was kind of clean but had a VERY stro...   \n",
       "1      id10327  I stayed at the Crown Plaza April -- - April -...   \n",
       "2      id10328  I booked this hotel through Hotwire at the low...   \n",
       "3      id10329  Stayed here with husband and sons on the way t...   \n",
       "4      id10330  My girlfriends and I stayed here to celebrate ...   \n",
       "...        ...                                                ...   \n",
       "38927  id49253  We arrived late at night and walked in to a ch...   \n",
       "38928  id49254  The only positive impression is location and p...   \n",
       "38929  id49255  Traveling with friends for shopping and a show...   \n",
       "38930  id49256  The experience was just ok. We paid extra for ...   \n",
       "38931  id49257  The Westin is a wonderfully restored grande da...   \n",
       "\n",
       "            Browser_Used Device_Used Is_Response  \n",
       "0                   Edge      Mobile   not happy  \n",
       "1      Internet Explorer      Mobile   not happy  \n",
       "2                Mozilla      Tablet   not happy  \n",
       "3       InternetExplorer     Desktop       happy  \n",
       "4                   Edge      Tablet   not happy  \n",
       "...                  ...         ...         ...  \n",
       "38927               Edge     Desktop       happy  \n",
       "38928   InternetExplorer      Mobile   not happy  \n",
       "38929            Firefox      Mobile   not happy  \n",
       "38930             Chrome     Desktop   not happy  \n",
       "38931            Mozilla     Desktop       happy  \n",
       "\n",
       "[38932 rows x 5 columns]"
      ]
     },
     "execution_count": 156,
     "metadata": {},
     "output_type": "execute_result"
    }
   ],
   "source": [
    "train"
   ]
  },
  {
   "cell_type": "code",
   "execution_count": 157,
   "metadata": {},
   "outputs": [
    {
     "data": {
      "image/png": "[encoded data removed]",
      "text/plain": [
       "<Figure size 1000x500 with 1 Axes>"
      ]
     },
     "metadata": {},
     "output_type": "display_data"
    }
   ],
   "source": [
    "# Groupby browser used, drop all column since all values will be the same, keep one, and rename it counts.\n",
    "browser_counts = train.groupby('Browser_Used').count().drop(['User_ID', 'Description', 'Is_Response'], axis=1).rename(columns={'Device_Used': 'Counts'})\n",
    "\n",
    "# BarChart of browser used with sns\n",
    "browser_counts.plot(kind='bar', figsize=(10, 5), color='blue')\n",
    "plt.title('Browser Used')\n",
    "plt.xlabel('Browser Used')\n",
    "plt.ylabel('Counts')\n",
    "plt.show()\n"
   ]
  },
  {
   "cell_type": "code",
   "execution_count": 158,
   "metadata": {},
   "outputs": [],
   "source": [
    "# From the graph we can see that the same browser have been used, but it was imputed with a different name. Let's combine the browsers that are the same.\n",
    "train['Browser_Used'] = train['Browser_Used'].replace('Chrome', 'Google Chrome')\n",
    "train['Browser_Used'] = train['Browser_Used'].replace('Mozilla', 'Firefox')\n",
    "train['Browser_Used'] = train['Browser_Used'].replace('Mozilla Firefox', 'Firefox')\n",
    "train['Browser_Used'] = train['Browser_Used'].replace('IE', 'Internet Explorer')\n",
    "train['Browser_Used'] = train['Browser_Used'].replace('InternetExplorer', 'Internet Explorer')\n",
    "\n",
    "# Doing the same for the test set\n",
    "test['Browser_Used'] = test['Browser_Used'].replace('Chrome', 'Google Chrome')\n",
    "test['Browser_Used'] = test['Browser_Used'].replace('Mozilla', 'Firefox')\n",
    "test['Browser_Used'] = test['Browser_Used'].replace('Mozilla Firefox', 'Firefox')\n",
    "test['Browser_Used'] = test['Browser_Used'].replace('IE', 'Internet Explorer')\n",
    "test['Browser_Used'] = test['Browser_Used'].replace('InternetExplorer', 'Internet Explorer')"
   ]
  },
  {
   "cell_type": "code",
   "execution_count": 159,
   "metadata": {},
   "outputs": [
    {
     "data": {
      "text/plain": [
       "Browser_Used\n",
       "Firefox              14787\n",
       "Internet Explorer     9130\n",
       "Edge                  7134\n",
       "Google Chrome         7129\n",
       "Safari                 390\n",
       "Opera                  362\n",
       "Name: count, dtype: int64"
      ]
     },
     "execution_count": 159,
     "metadata": {},
     "output_type": "execute_result"
    }
   ],
   "source": [
    "train['Browser_Used'].value_counts()"
   ]
  },
  {
   "cell_type": "code",
   "execution_count": 160,
   "metadata": {},
   "outputs": [
    {
     "data": {
      "image/png": "[encoded data removed]",
      "text/plain": [
       "<Figure size 1000x500 with 1 Axes>"
      ]
     },
     "metadata": {},
     "output_type": "display_data"
    }
   ],
   "source": [
    "# Groupby browser used, drop all column since all values will be the same, keep one, and rename it counts.\n",
    "browser_counts = train.groupby('Browser_Used').count().drop(['User_ID', 'Description', 'Is_Response'], axis=1).rename(columns={'Device_Used': 'Counts'})\n",
    "\n",
    "# BarChart of browser used with sns\n",
    "browser_counts.plot(kind='bar', figsize=(10, 5), color='blue')\n",
    "plt.title('Browser Used')\n",
    "plt.xlabel('Browser Used')\n",
    "plt.ylabel('Counts')\n",
    "plt.show()\n"
   ]
  },
  {
   "cell_type": "markdown",
   "metadata": {},
   "source": [
    "We have cleaned the repeated Browsers!!!\n",
    "\n",
    "Now let's look at the `distribution of responses` between the people that stated that they were happy or not.\n",
    "\n",
    "**I plan to:**\n",
    "1. Do some EDA on the data\n",
    "2. Run some TFIDF to check for the responses themselves, and try to classify if the response was in fact negative or positive."
   ]
  },
  {
   "cell_type": "code",
   "execution_count": 161,
   "metadata": {},
   "outputs": [
    {
     "data": {
      "image/png": "[encoded data removed]",
      "text/plain": [
       "<Figure size 640x480 with 1 Axes>"
      ]
     },
     "metadata": {},
     "output_type": "display_data"
    }
   ],
   "source": [
    "# SNS Graph of happyness score\n",
    "sns.histplot(train['Is_Response'], bins=10, kde=True)\n",
    "plt.title('Happyness Score')\n",
    "plt.xlabel('Happyness Score')\n",
    "plt.ylabel('Counts')\n",
    "plt.show()\n"
   ]
  },
  {
   "cell_type": "code",
   "execution_count": 162,
   "metadata": {},
   "outputs": [
    {
     "name": "stdout",
     "output_type": "stream",
     "text": [
      "Accuracy: 0.8839090792346218\n",
      "Confusion Matrix:\n",
      " [[5017  302]\n",
      " [ 602 1866]]\n"
     ]
    }
   ],
   "source": [
    "# Running TF-IDF on the description column\n",
    "from sklearn.feature_extraction.text import TfidfVectorizer\n",
    "from sklearn.model_selection import train_test_split\n",
    "from sklearn.linear_model import LogisticRegression\n",
    "from sklearn.metrics import accuracy_score, confusion_matrix, classification_report\n",
    "from sklearn.pipeline import Pipeline\n",
    "\n",
    "# Split the data into training and testing sets\n",
    "train_data, test_data = train_test_split(train, test_size=0.2)\n",
    "\n",
    "# Create a pipeline that first transforms the text into TF-IDF features and then applies a classifier\n",
    "train_pipeline = Pipeline([\n",
    "\n",
    "    ('tfidf', TfidfVectorizer(stop_words='english')),\n",
    "    ('clf', LogisticRegression())\n",
    "])\n",
    "\n",
    "# Train the pipeline on the training data\n",
    "train_pipeline.fit(train_data['Description'], train_data['Is_Response'])\n",
    "\n",
    "# Predict the labels for the test data\n",
    "predictions = train_pipeline.predict(test_data['Description'])\n",
    "\n",
    "# Print the accuracy of the model\n",
    "print('Accuracy:', accuracy_score(test_data['Is_Response'], predictions))\n",
    "\n",
    "# Print the confusion matrix\n",
    "print('Confusion Matrix:\\n', confusion_matrix(test_data['Is_Response'], predictions))\n"
   ]
  },
  {
   "cell_type": "code",
   "execution_count": 163,
   "metadata": {},
   "outputs": [],
   "source": [
    "# Create the vectorizer and classifier separately for easier access\n",
    "tfidf = TfidfVectorizer(stop_words='english')\n",
    "clf = LogisticRegression()"
   ]
  },
  {
   "cell_type": "code",
   "execution_count": 164,
   "metadata": {},
   "outputs": [],
   "source": [
    "# Fit TF-IDF on training data and transform both train and test\n",
    "X_train_tfidf = tfidf.fit_transform(train_data['Description'])\n",
    "X_test_tfidf = tfidf.transform(test_data['Description'])"
   ]
  },
  {
   "cell_type": "code",
   "execution_count": 165,
   "metadata": {},
   "outputs": [
    {
     "data": {
      "text/html": [
       "<style>#sk-container-id-5 {\n",
       "  /* Definition of color scheme common for light and dark mode */\n",
       "  --sklearn-color-text: black;\n",
       "  --sklearn-color-line: gray;\n",
       "  /* Definition of color scheme for unfitted estimators */\n",
       "  --sklearn-color-unfitted-level-0: #fff5e6;\n",
       "  --sklearn-color-unfitted-level-1: #f6e4d2;\n",
       "  --sklearn-color-unfitted-level-2: #ffe0b3;\n",
       "  --sklearn-color-unfitted-level-3: chocolate;\n",
       "  /* Definition of color scheme for fitted estimators */\n",
       "  --sklearn-color-fitted-level-0: #f0f8ff;\n",
       "  --sklearn-color-fitted-level-1: #d4ebff;\n",
       "  --sklearn-color-fitted-level-2: #b3dbfd;\n",
       "  --sklearn-color-fitted-level-3: cornflowerblue;\n",
       "\n",
       "  /* Specific color for light theme */\n",
       "  --sklearn-color-text-on-default-background: var(--sg-text-color, var(--theme-code-foreground, var(--jp-content-font-color1, black)));\n",
       "  --sklearn-color-background: var(--sg-background-color, var(--theme-background, var(--jp-layout-color0, white)));\n",
       "  --sklearn-color-border-box: var(--sg-text-color, var(--theme-code-foreground, var(--jp-content-font-color1, black)));\n",
       "  --sklearn-color-icon: #696969;\n",
       "\n",
       "  @media (prefers-color-scheme: dark) {\n",
       "    /* Redefinition of color scheme for dark theme */\n",
       "    --sklearn-color-text-on-default-background: var(--sg-text-color, var(--theme-code-foreground, var(--jp-content-font-color1, white)));\n",
       "    --sklearn-color-background: var(--sg-background-color, var(--theme-background, var(--jp-layout-color0, #111)));\n",
       "    --sklearn-color-border-box: var(--sg-text-color, var(--theme-code-foreground, var(--jp-content-font-color1, white)));\n",
       "    --sklearn-color-icon: #878787;\n",
       "  }\n",
       "}\n",
       "\n",
       "#sk-container-id-5 {\n",
       "  color: var(--sklearn-color-text);\n",
       "}\n",
       "\n",
       "#sk-container-id-5 pre {\n",
       "  padding: 0;\n",
       "}\n",
       "\n",
       "#sk-container-id-5 input.sk-hidden--visually {\n",
       "  border: 0;\n",
       "  clip: rect(1px 1px 1px 1px);\n",
       "  clip: rect(1px, 1px, 1px, 1px);\n",
       "  height: 1px;\n",
       "  margin: -1px;\n",
       "  overflow: hidden;\n",
       "  padding: 0;\n",
       "  position: absolute;\n",
       "  width: 1px;\n",
       "}\n",
       "\n",
       "#sk-container-id-5 div.sk-dashed-wrapped {\n",
       "  border: 1px dashed var(--sklearn-color-line);\n",
       "  margin: 0 0.4em 0.5em 0.4em;\n",
       "  box-sizing: border-box;\n",
       "  padding-bottom: 0.4em;\n",
       "  background-color: var(--sklearn-color-background);\n",
       "}\n",
       "\n",
       "#sk-container-id-5 div.sk-container {\n",
       "  /* jupyter's `normalize.less` sets `[hidden] { display: none; }`\n",
       "     but bootstrap.min.css set `[hidden] { display: none !important; }`\n",
       "     so we also need the `!important` here to be able to override the\n",
       "     default hidden behavior on the sphinx rendered scikit-learn.org.\n",
       "     See: https://github.com/scikit-learn/scikit-learn/issues/21755 */\n",
       "  display: inline-block !important;\n",
       "  position: relative;\n",
       "}\n",
       "\n",
       "#sk-container-id-5 div.sk-text-repr-fallback {\n",
       "  display: none;\n",
       "}\n",
       "\n",
       "div.sk-parallel-item,\n",
       "div.sk-serial,\n",
       "div.sk-item {\n",
       "  /* draw centered vertical line to link estimators */\n",
       "  background-image: linear-gradient(var(--sklearn-color-text-on-default-background), var(--sklearn-color-text-on-default-background));\n",
       "  background-size: 2px 100%;\n",
       "  background-repeat: no-repeat;\n",
       "  background-position: center center;\n",
       "}\n",
       "\n",
       "/* Parallel-specific style estimator block */\n",
       "\n",
       "#sk-container-id-5 div.sk-parallel-item::after {\n",
       "  content: \"\";\n",
       "  width: 100%;\n",
       "  border-bottom: 2px solid var(--sklearn-color-text-on-default-background);\n",
       "  flex-grow: 1;\n",
       "}\n",
       "\n",
       "#sk-container-id-5 div.sk-parallel {\n",
       "  display: flex;\n",
       "  align-items: stretch;\n",
       "  justify-content: center;\n",
       "  background-color: var(--sklearn-color-background);\n",
       "  position: relative;\n",
       "}\n",
       "\n",
       "#sk-container-id-5 div.sk-parallel-item {\n",
       "  display: flex;\n",
       "  flex-direction: column;\n",
       "}\n",
       "\n",
       "#sk-container-id-5 div.sk-parallel-item:first-child::after {\n",
       "  align-self: flex-end;\n",
       "  width: 50%;\n",
       "}\n",
       "\n",
       "#sk-container-id-5 div.sk-parallel-item:last-child::after {\n",
       "  align-self: flex-start;\n",
       "  width: 50%;\n",
       "}\n",
       "\n",
       "#sk-container-id-5 div.sk-parallel-item:only-child::after {\n",
       "  width: 0;\n",
       "}\n",
       "\n",
       "/* Serial-specific style estimator block */\n",
       "\n",
       "#sk-container-id-5 div.sk-serial {\n",
       "  display: flex;\n",
       "  flex-direction: column;\n",
       "  align-items: center;\n",
       "  background-color: var(--sklearn-color-background);\n",
       "  padding-right: 1em;\n",
       "  padding-left: 1em;\n",
       "}\n",
       "\n",
       "\n",
       "/* Toggleable style: style used for estimator/Pipeline/ColumnTransformer box that is\n",
       "clickable and can be expanded/collapsed.\n",
       "- Pipeline and ColumnTransformer use this feature and define the default style\n",
       "- Estimators will overwrite some part of the style using the `sk-estimator` class\n",
       "*/\n",
       "\n",
       "/* Pipeline and ColumnTransformer style (default) */\n",
       "\n",
       "#sk-container-id-5 div.sk-toggleable {\n",
       "  /* Default theme specific background. It is overwritten whether we have a\n",
       "  specific estimator or a Pipeline/ColumnTransformer */\n",
       "  background-color: var(--sklearn-color-background);\n",
       "}\n",
       "\n",
       "/* Toggleable label */\n",
       "#sk-container-id-5 label.sk-toggleable__label {\n",
       "  cursor: pointer;\n",
       "  display: block;\n",
       "  width: 100%;\n",
       "  margin-bottom: 0;\n",
       "  padding: 0.5em;\n",
       "  box-sizing: border-box;\n",
       "  text-align: center;\n",
       "}\n",
       "\n",
       "#sk-container-id-5 label.sk-toggleable__label-arrow:before {\n",
       "  /* Arrow on the left of the label */\n",
       "  content: \"▸\";\n",
       "  float: left;\n",
       "  margin-right: 0.25em;\n",
       "  color: var(--sklearn-color-icon);\n",
       "}\n",
       "\n",
       "#sk-container-id-5 label.sk-toggleable__label-arrow:hover:before {\n",
       "  color: var(--sklearn-color-text);\n",
       "}\n",
       "\n",
       "/* Toggleable content - dropdown */\n",
       "\n",
       "#sk-container-id-5 div.sk-toggleable__content {\n",
       "  max-height: 0;\n",
       "  max-width: 0;\n",
       "  overflow: hidden;\n",
       "  text-align: left;\n",
       "  /* unfitted */\n",
       "  background-color: var(--sklearn-color-unfitted-level-0);\n",
       "}\n",
       "\n",
       "#sk-container-id-5 div.sk-toggleable__content.fitted {\n",
       "  /* fitted */\n",
       "  background-color: var(--sklearn-color-fitted-level-0);\n",
       "}\n",
       "\n",
       "#sk-container-id-5 div.sk-toggleable__content pre {\n",
       "  margin: 0.2em;\n",
       "  border-radius: 0.25em;\n",
       "  color: var(--sklearn-color-text);\n",
       "  /* unfitted */\n",
       "  background-color: var(--sklearn-color-unfitted-level-0);\n",
       "}\n",
       "\n",
       "#sk-container-id-5 div.sk-toggleable__content.fitted pre {\n",
       "  /* unfitted */\n",
       "  background-color: var(--sklearn-color-fitted-level-0);\n",
       "}\n",
       "\n",
       "#sk-container-id-5 input.sk-toggleable__control:checked~div.sk-toggleable__content {\n",
       "  /* Expand drop-down */\n",
       "  max-height: 200px;\n",
       "  max-width: 100%;\n",
       "  overflow: auto;\n",
       "}\n",
       "\n",
       "#sk-container-id-5 input.sk-toggleable__control:checked~label.sk-toggleable__label-arrow:before {\n",
       "  content: \"▾\";\n",
       "}\n",
       "\n",
       "/* Pipeline/ColumnTransformer-specific style */\n",
       "\n",
       "#sk-container-id-5 div.sk-label input.sk-toggleable__control:checked~label.sk-toggleable__label {\n",
       "  color: var(--sklearn-color-text);\n",
       "  background-color: var(--sklearn-color-unfitted-level-2);\n",
       "}\n",
       "\n",
       "#sk-container-id-5 div.sk-label.fitted input.sk-toggleable__control:checked~label.sk-toggleable__label {\n",
       "  background-color: var(--sklearn-color-fitted-level-2);\n",
       "}\n",
       "\n",
       "/* Estimator-specific style */\n",
       "\n",
       "/* Colorize estimator box */\n",
       "#sk-container-id-5 div.sk-estimator input.sk-toggleable__control:checked~label.sk-toggleable__label {\n",
       "  /* unfitted */\n",
       "  background-color: var(--sklearn-color-unfitted-level-2);\n",
       "}\n",
       "\n",
       "#sk-container-id-5 div.sk-estimator.fitted input.sk-toggleable__control:checked~label.sk-toggleable__label {\n",
       "  /* fitted */\n",
       "  background-color: var(--sklearn-color-fitted-level-2);\n",
       "}\n",
       "\n",
       "#sk-container-id-5 div.sk-label label.sk-toggleable__label,\n",
       "#sk-container-id-5 div.sk-label label {\n",
       "  /* The background is the default theme color */\n",
       "  color: var(--sklearn-color-text-on-default-background);\n",
       "}\n",
       "\n",
       "/* On hover, darken the color of the background */\n",
       "#sk-container-id-5 div.sk-label:hover label.sk-toggleable__label {\n",
       "  color: var(--sklearn-color-text);\n",
       "  background-color: var(--sklearn-color-unfitted-level-2);\n",
       "}\n",
       "\n",
       "/* Label box, darken color on hover, fitted */\n",
       "#sk-container-id-5 div.sk-label.fitted:hover label.sk-toggleable__label.fitted {\n",
       "  color: var(--sklearn-color-text);\n",
       "  background-color: var(--sklearn-color-fitted-level-2);\n",
       "}\n",
       "\n",
       "/* Estimator label */\n",
       "\n",
       "#sk-container-id-5 div.sk-label label {\n",
       "  font-family: monospace;\n",
       "  font-weight: bold;\n",
       "  display: inline-block;\n",
       "  line-height: 1.2em;\n",
       "}\n",
       "\n",
       "#sk-container-id-5 div.sk-label-container {\n",
       "  text-align: center;\n",
       "}\n",
       "\n",
       "/* Estimator-specific */\n",
       "#sk-container-id-5 div.sk-estimator {\n",
       "  font-family: monospace;\n",
       "  border: 1px dotted var(--sklearn-color-border-box);\n",
       "  border-radius: 0.25em;\n",
       "  box-sizing: border-box;\n",
       "  margin-bottom: 0.5em;\n",
       "  /* unfitted */\n",
       "  background-color: var(--sklearn-color-unfitted-level-0);\n",
       "}\n",
       "\n",
       "#sk-container-id-5 div.sk-estimator.fitted {\n",
       "  /* fitted */\n",
       "  background-color: var(--sklearn-color-fitted-level-0);\n",
       "}\n",
       "\n",
       "/* on hover */\n",
       "#sk-container-id-5 div.sk-estimator:hover {\n",
       "  /* unfitted */\n",
       "  background-color: var(--sklearn-color-unfitted-level-2);\n",
       "}\n",
       "\n",
       "#sk-container-id-5 div.sk-estimator.fitted:hover {\n",
       "  /* fitted */\n",
       "  background-color: var(--sklearn-color-fitted-level-2);\n",
       "}\n",
       "\n",
       "/* Specification for estimator info (e.g. \"i\" and \"?\") */\n",
       "\n",
       "/* Common style for \"i\" and \"?\" */\n",
       "\n",
       ".sk-estimator-doc-link,\n",
       "a:link.sk-estimator-doc-link,\n",
       "a:visited.sk-estimator-doc-link {\n",
       "  float: right;\n",
       "  font-size: smaller;\n",
       "  line-height: 1em;\n",
       "  font-family: monospace;\n",
       "  background-color: var(--sklearn-color-background);\n",
       "  border-radius: 1em;\n",
       "  height: 1em;\n",
       "  width: 1em;\n",
       "  text-decoration: none !important;\n",
       "  margin-left: 1ex;\n",
       "  /* unfitted */\n",
       "  border: var(--sklearn-color-unfitted-level-1) 1pt solid;\n",
       "  color: var(--sklearn-color-unfitted-level-1);\n",
       "}\n",
       "\n",
       ".sk-estimator-doc-link.fitted,\n",
       "a:link.sk-estimator-doc-link.fitted,\n",
       "a:visited.sk-estimator-doc-link.fitted {\n",
       "  /* fitted */\n",
       "  border: var(--sklearn-color-fitted-level-1) 1pt solid;\n",
       "  color: var(--sklearn-color-fitted-level-1);\n",
       "}\n",
       "\n",
       "/* On hover */\n",
       "div.sk-estimator:hover .sk-estimator-doc-link:hover,\n",
       ".sk-estimator-doc-link:hover,\n",
       "div.sk-label-container:hover .sk-estimator-doc-link:hover,\n",
       ".sk-estimator-doc-link:hover {\n",
       "  /* unfitted */\n",
       "  background-color: var(--sklearn-color-unfitted-level-3);\n",
       "  color: var(--sklearn-color-background);\n",
       "  text-decoration: none;\n",
       "}\n",
       "\n",
       "div.sk-estimator.fitted:hover .sk-estimator-doc-link.fitted:hover,\n",
       ".sk-estimator-doc-link.fitted:hover,\n",
       "div.sk-label-container:hover .sk-estimator-doc-link.fitted:hover,\n",
       ".sk-estimator-doc-link.fitted:hover {\n",
       "  /* fitted */\n",
       "  background-color: var(--sklearn-color-fitted-level-3);\n",
       "  color: var(--sklearn-color-background);\n",
       "  text-decoration: none;\n",
       "}\n",
       "\n",
       "/* Span, style for the box shown on hovering the info icon */\n",
       ".sk-estimator-doc-link span {\n",
       "  display: none;\n",
       "  z-index: 9999;\n",
       "  position: relative;\n",
       "  font-weight: normal;\n",
       "  right: .2ex;\n",
       "  padding: .5ex;\n",
       "  margin: .5ex;\n",
       "  width: min-content;\n",
       "  min-width: 20ex;\n",
       "  max-width: 50ex;\n",
       "  color: var(--sklearn-color-text);\n",
       "  box-shadow: 2pt 2pt 4pt #999;\n",
       "  /* unfitted */\n",
       "  background: var(--sklearn-color-unfitted-level-0);\n",
       "  border: .5pt solid var(--sklearn-color-unfitted-level-3);\n",
       "}\n",
       "\n",
       ".sk-estimator-doc-link.fitted span {\n",
       "  /* fitted */\n",
       "  background: var(--sklearn-color-fitted-level-0);\n",
       "  border: var(--sklearn-color-fitted-level-3);\n",
       "}\n",
       "\n",
       ".sk-estimator-doc-link:hover span {\n",
       "  display: block;\n",
       "}\n",
       "\n",
       "/* \"?\"-specific style due to the `<a>` HTML tag */\n",
       "\n",
       "#sk-container-id-5 a.estimator_doc_link {\n",
       "  float: right;\n",
       "  font-size: 1rem;\n",
       "  line-height: 1em;\n",
       "  font-family: monospace;\n",
       "  background-color: var(--sklearn-color-background);\n",
       "  border-radius: 1rem;\n",
       "  height: 1rem;\n",
       "  width: 1rem;\n",
       "  text-decoration: none;\n",
       "  /* unfitted */\n",
       "  color: var(--sklearn-color-unfitted-level-1);\n",
       "  border: var(--sklearn-color-unfitted-level-1) 1pt solid;\n",
       "}\n",
       "\n",
       "#sk-container-id-5 a.estimator_doc_link.fitted {\n",
       "  /* fitted */\n",
       "  border: var(--sklearn-color-fitted-level-1) 1pt solid;\n",
       "  color: var(--sklearn-color-fitted-level-1);\n",
       "}\n",
       "\n",
       "/* On hover */\n",
       "#sk-container-id-5 a.estimator_doc_link:hover {\n",
       "  /* unfitted */\n",
       "  background-color: var(--sklearn-color-unfitted-level-3);\n",
       "  color: var(--sklearn-color-background);\n",
       "  text-decoration: none;\n",
       "}\n",
       "\n",
       "#sk-container-id-5 a.estimator_doc_link.fitted:hover {\n",
       "  /* fitted */\n",
       "  background-color: var(--sklearn-color-fitted-level-3);\n",
       "}\n",
       "</style><div id=\"sk-container-id-5\" class=\"sk-top-container\"><div class=\"sk-text-repr-fallback\"><pre>LogisticRegression()</pre><b>In a Jupyter environment, please rerun this cell to show the HTML representation or trust the notebook. <br />On GitHub, the HTML representation is unable to render, please try loading this page with nbviewer.org.</b></div><div class=\"sk-container\" hidden><div class=\"sk-item\"><div class=\"sk-estimator fitted sk-toggleable\"><input class=\"sk-toggleable__control sk-hidden--visually\" id=\"sk-estimator-id-5\" type=\"checkbox\" checked><label for=\"sk-estimator-id-5\" class=\"sk-toggleable__label fitted sk-toggleable__label-arrow fitted\">&nbsp;&nbsp;LogisticRegression<a class=\"sk-estimator-doc-link fitted\" rel=\"noreferrer\" target=\"_blank\" href=\"https://scikit-learn.org/1.5/modules/generated/sklearn.linear_model.LogisticRegression.html\">?<span>Documentation for LogisticRegression</span></a><span class=\"sk-estimator-doc-link fitted\">i<span>Fitted</span></span></label><div class=\"sk-toggleable__content fitted\"><pre>LogisticRegression()</pre></div> </div></div></div></div>"
      ],
      "text/plain": [
       "LogisticRegression()"
      ]
     },
     "execution_count": 165,
     "metadata": {},
     "output_type": "execute_result"
    }
   ],
   "source": [
    "clf.fit(X_train_tfidf, train_data['Is_Response'])"
   ]
  },
  {
   "cell_type": "code",
   "execution_count": 166,
   "metadata": {},
   "outputs": [],
   "source": [
    "# Predict sentiment labels\n",
    "predictions = clf.predict(X_test_tfidf)\n",
    "test_data = test_data.copy()  # Avoid changing the original test set"
   ]
  },
  {
   "cell_type": "code",
   "execution_count": 167,
   "metadata": {},
   "outputs": [],
   "source": [
    "# Assign predictions\n",
    "test_data['Predicted_Label'] = predictions\n",
    "\n",
    "# Map string labels to sentiment names\n",
    "label_map = {\n",
    "    'happy': 'Positive',\n",
    "    'not happy': 'Negative'\n",
    "}\n",
    "\n",
    "test_data['Sentiment'] = test_data['Predicted_Label'].map(label_map)\n"
   ]
  },
  {
   "cell_type": "code",
   "execution_count": 168,
   "metadata": {},
   "outputs": [],
   "source": [
    "# Get feature names and coefficients\n",
    "feature_names = np.array(tfidf.get_feature_names_out())\n",
    "coefs = clf.coef_[0]"
   ]
  },
  {
   "cell_type": "code",
   "execution_count": 169,
   "metadata": {},
   "outputs": [],
   "source": [
    "def get_important_words(text, top_n=3):\n",
    "    \"\"\"\n",
    "    Return the most influential words in a sentence based on TF-IDF * model weight.\n",
    "    \"\"\"\n",
    "    tfidf_vector = tfidf.transform([text])\n",
    "    word_indices = tfidf_vector.indices\n",
    "    word_scores = tfidf_vector.data * coefs[word_indices]\n",
    "    top_indices = np.argsort(word_scores)[-top_n:]\n",
    "    return [feature_names[word_indices[i]] for i in top_indices[::-1]]"
   ]
  },
  {
   "cell_type": "code",
   "execution_count": 170,
   "metadata": {},
   "outputs": [],
   "source": [
    "# Add column with top words\n",
    "test_data['Top_Words'] = test_data['Description'].apply(lambda x: get_important_words(x, top_n=3))"
   ]
  },
  {
   "cell_type": "code",
   "execution_count": 172,
   "metadata": {},
   "outputs": [
    {
     "data": {
      "application/vnd.microsoft.datawrangler.viewer.v0+json": {
       "columns": [
        {
         "name": "index",
         "rawType": "int64",
         "type": "integer"
        },
        {
         "name": "Description",
         "rawType": "object",
         "type": "string"
        },
        {
         "name": "Sentiment",
         "rawType": "object",
         "type": "string"
        },
        {
         "name": "Top_Words",
         "rawType": "object",
         "type": "unknown"
        }
       ],
       "conversionMethod": "pd.DataFrame",
       "ref": "042a86e7-703d-4a99-9552-285f3fb90379",
       "rows": [
        [
         "38483",
         "The hotel is in Times Square as the name states but it is towards the south end. Keep this in mind if you need to be on the north side of Times Square. If you are coming from LGA, take the Q-- to the bus-subway station and transfer to the E. The E is express to Manhattan during the day and the trip is quick. This is a good way to go since the Q-- pulls into the bus depot, you can't miss your stop and it is also the subway station. Safe at all times of the day. \nIt is funny to look out the hotel window because it looks the same day or night....Just bright lights all over which is what you come to Times Square to see. We would stay here again without hesitation. Very clean and quiet.",
         "Positive",
         "['looks', 'day', 'funny']"
        ],
        [
         "4206",
         "We resisted advise to stay in the heart of Times Square & really enjoyed the location of the Blakely. It was convenient to the theatre, Central Park, TOTR, & the subway entrance.",
         "Positive",
         "['advise', 'location', 'blakely']"
        ],
        [
         "30802",
         "The price for my stay in December was approximately $--- a night, which is pretty good for a two-room studio with King Bed, Full-Sized Fridge, Kitchen Table, Foldout Couch, and RCA Jack friendly Television set. \nI booked two nights on a Friday and Saturday. I had heard, from reading other reviews, the walls are paper thin. I also heard that fast food is not an easy find. Well, it's true. The walls are very thin, and finding fast food was a chore.\nNot one night passed without hearing sounds of people talking in neighboring rooms. In the living room, I could hear the family next door talking and watching T.V. In the bedroom I could hear the people on the other side of the wall talking and watching T.V. The loudest noises, however, came from the outside hallway (mostly kids running up and down the halls) and the window, which faced the pool. I was on the third floor, but it didn't help much. The noise from the pool echoed into my room all day and up until - p.m. or so in the evening. As for sleeping in, it didn't happen in this hotel. I tried both mornings, and woke each day at - a.m. to the sound of slamming doors or kids running up and down the hallway. In some strange way, it reminded me of Disney Land, just outside my front door! On the plus side, the King bed was extremely comfortable! It's just too bad the noise was so loud.\nIn spite of all the noise, the room was nice and the occupants of the hotel all seemed friendly and family oriented. This is definitely a place for married couples with kids. I felt safe my entire stay.\nAs for food, it's hard to find unless you plan on taking in a sit-down meal. Check-in time is at - p.m. I arrived my first day at - p.m. Unfortunately, my room was not ready, and I was told I would have to come back later. I drove around looking for something to eat but couldn't find anything of the fast-food variety anywhere near the hotel. I drove past the local mall, down a few side streets, and eventually found a Wendy’s. The problem is, it was about -- minutes away from the room, and with traffic congestion somewhat prevalent in the Hotel Circle area, it took me a while to get there and get back. One bit of advice: bring your own food. It's cheaper and you'll thank yourself later. Also, there is no room service, etc., so if you get a late night craving, you’re on your own.\nOverall, the hotel was decent. It's loud and parking at $-- a night seemed high, but the people were nice enough. Also, the elevators in this building are very slow! Slow to arrive, slow to open the doors. I couldn’t believe how long I had to wait. Use the stairs if you’re in a rush. It's a good workout and you won't have to wait around five minutes for the elevator to pick you up!\nOne final comment. It would be nice if the hotel had more parking spots for guests of hotel guests. There are only about - total spots in front of the hotel. A business associate stopped by one evening to visit me and had to wait -- minutes to find a parking spot. Parking in the back for hotel guests is pretty abundant, but you must have a room card to park there, along with a hotel parking pass to display in your window. Also, it does fill up late at night, but most other times it's easy to find a spot.",
         "Negative",
         "['walls', 'room', 'night']"
        ],
        [
         "35052",
         "I stayed here for - nights on business and below are my thoughts. \nThe Good:\nCheck in and check out was swift and easy and I found the staff really helpful so all good there. The room was big with two queen beds and a sofa area so you certainly didn't get cabin fever and the bed itself was super comfortable. The location is good too, just off Michigan so if you're in Chicago for the shopping you're only a stone's throw away. It's also no dramas to walk to many of the other good places to go out at night.\nThe Average-not so good:\nThe hotel is tired and in need of an update, the rooms especially are showing their age and there's really not a lot to the hotel other then the rooms. To be fair there is a small indoor pool and mini gym on the -th floor and a small restaurant too on the ground floor but with so many options locally to choose from to eat we went out for every meal. Didn't think too much of the cleanliness of the room, my bathroom was full of previous guest's hairs on arrival.\nWould I stay here again? No, as I would hope the next time I come back to Chicago I would get a better hotel for the money I paid this time round (The Bears were playing at home so I'm sure the rate was jacked up because of that) but if you're just after a room to crash in and you get a decent rate then this is a good option but if you're after more than a room then look elsewhere.",
         "Negative",
         "['average', 'room', 'tired']"
        ],
        [
         "10512",
         "Even though their web site shows bell hops waiting at the --- -rd Ave entrance, there are none there. This is where the taxi cabs let you off and then you struggle with your luggage to get it into the building and then find that you must take an elevator to the -nd floor for the lobby. Once you get to the -nd floor, you must again struggle with your luggage to get to the check-in area where there are bell hops just waiting around at the Cherry Street entrance. What is wrong with this picture??? The street noise at night is loud but luckily I had brought my Brookstone Sound Therapy System with me. I think limos are the only form of transportation that drops you off and picks you up at the Cherry Street entrance. I took a limo back to the airport and it really was not any more expensive than a taxi and well worth every penny. I found the food at the Juno Restaurant to be very good. I now wish I would have picked Hotel Monaco for my stay.",
         "Negative",
         "['loud', 'waiting', 'luckily']"
        ],
        [
         "18197",
         "The Affinia Dumont is certainly all the reviews make out. We picked it after many hours of seaching in the net to find a space that would suit a family of four (with two teenagers) comfortably, was central to the touristy spots, shopping and food. What we found was a safe neighborhood which surpassed our expectations.\nPrior to arrival, we had arranged with the hotel for a car to met us at the airport as this was past midnight. The concierge and I did this over the phone a few days earlier and everything went without a hitch. Upon arrival however, we were given two rooms as the - bedroom apartment we had reserved was not available that night - not such a great start but after -- hours of travel, a bed was a bed. The rooms were switched the next morning and we had our apartment with a rollaway and the sofa bed made up for the two kids. The rest of the stay was comfortable and we found the staff friendly and efficient. The concierges were helpful and were a good source of advance purchase tickets and bookings. The one thing we learnt quickly about New York attractions was that express tickets albeit slightly more expensive are worth every penny unless you wanted to spend hours in the queue..... and queues there were.\nThe - bedroom apartment was certainly comfortable enough for four although a tad crowded with the sofa bed and rollaway, we still had enough room for four. There was plenty of storage space to put luggage out of the way which helped. The kitchenette was basic - good for heating up meals but I would not attempt to cook a proper meal in it. \nThe hotel in Midtwon East Manhattan is at the border of Murray Hill and Soho. There is an eclectic mix of small shops, business districts and residential properties within a - block radius. Down Lexington, -rd Avenue, and Madison are restaurants galore. The best ones we found were Serge, a French brasserie on Madison; Da Ciro, an Italian place on Lexington and the Lemongrass Grill (Thai) right next to the hotel. The Lemongrass and the Grand Sichuan (round the corner on Lexington) do takeaways as well. Final orders are about -.-- pm and both are good places for a warm takeaway meal if looking for a late dinner. -rd Avenue also houses a few clothes shops and the Shoe Box which stocks designer shoes at a reasonable price.\n A stroll down Park Avenue, lined with grand old brownstones and cherry trees in spring, takes you towards the Grand Central Station surrounded by shopping and more places to eat. Two blocks down turning left from the hotel leads you towards -th Ave and slightly further was the iconic Macy's. Public transport was aplenty although we did not attempt to take any, while taxis generally cost about $- to $-- from the hotel to most of the touristy spots including Times Square at the height of rush hour traffic. \nRight at the corner of --th and Lexington on the same block as the Dumont is the Murray Hill Market, a well stocked provision shop which is also a -- hour deli with the most delectable fresh sandwich and salad bar. It was certainly frequented by our son! Opposite on the next block is Guy & Gallard - another deli which has great bagels for breakfast and coffee, especially if you are looking for a good cup of cappuccino. A few doors up is the Symphony Laundry, offering a next day service for a very good price with an extremely helpful and friendly proprietress. \nWe would return to the Dumont again if back on holiday. The only thing i would do different is ask for a room above the -- th floor for a better view and get the hotel staff to look into the air-conditioning system which seemed to cut off after midnight and coming back on in the early hours. The room could get too hot to sleep properly. However, I liked the neighbourhood and it was fun walking about the hotel area in the morning watching the various streets come alive with my takeout coffee while the family are still curled up in bed.",
         "Positive",
         "['basic', 'bed', 'old']"
        ],
        [
         "19754",
         "Really enjoyed the night I stayed at the Hudson and would recommend it for travelling with very small children (mine is -.-) We got upgraded to an enormous room with two queen sized beds and a cot, and a little lobby for the buggy to be parked and an ensuite bathroom. Lovely views over Manhattan. Staff were gorgeous and everyone was incredibly helpful and sympathetic towards me (single mother), although they are a tad disorganised. Food was delicious and not unreasonably priced, cocktails on the sky terrace a bit ho hum, children not allowed in the gym swimming pool which you can get membership to (it's across the street), which was not what I'd been told, and there were various muddles like that. It's an immense skyscraper and the corridors are a bit spooky - at times I think the design crosses the line between cool postmodern and weird sinister but generally I had a blast here and would happily go again.",
         "Positive",
         "['told', 'weird', 'small']"
        ],
        [
         "29246",
         "Stayed here on business because my colleague and I were going to share a rental car and it was simply the easiest way to go. Next time I will stay at the Omni up the road (my usual stay) or the Crowne Plaza which I stayed at last time (which had the most comfortable bed ever but wasn't quite as nice as the Omni).\nFirst, as I checked in (very nice guy) I was told I was being upgraded to their premier floor (-th floor). I was told these rooms were bigger and they had refrigerators, and also told to park by a certain door. Well, I was told to park at the opposite door that I should have (I had a few heavy bags and dinner in my hands), the room was average in size (couldn't imagine it being much smaller unless it was in the \"\"\"\"\"\"\"\"\"\"\"\"\"\"\"\"\"\"\"\"\"\"\"\"\"\"\"\"\"\"\"\"hot\"\"\"\"\"\"\"\"\"\"\"\"\"\"\"\"\"\"\"\"\"\"\"\"\"\"\"\"\"\"\"\" areas in NYC, San Fran, or Chicago), and there was no refrigerator. I'm not upset about the size of the room or the fridge at all.\nWell, I am currently sitting in a broken chair I almost fell out of twice already, the internet is free wireless but in and out with the connection, and the television has been out for quite some time now. I pulled the tv out of the armoire to turn it toward the desk area and I literally almost dropped it on the floor. There are little bugs crawling on the mirror I am looking at right now, a couple more on this desk, and I keep losing the wireless connection (- times in this post so far). \nThe location is good, area around is ok, kinda, and again the staff was very courteous. The shower seems nice and the bathroom amenities are decent. The ice machine worked as well, not all bad here, but it was pretty much below average for a business traveler.",
         "Negative",
         "['told', 'average', 'ok']"
        ],
        [
         "19144",
         "The hotel is a great value for Union Square. I booked well in advance, and later checked rates and noted they had dropped. I emailed the hotel and they honoured the lower rate with no hassles at all.\nDue to flight delays I arrived exhausted at -am. Check in could not have been better and more friendly. I had a very slow and somewhat rude guest ahead of me in line, but the check in clerk managed to acknowledge me, make me feel welcome and get to me as quickly as he could while still paying attention to the person ahead of me. My check in was quick and easy.\nMy room was small compared to a modern chain hotel but it really wasn’t an issue for me. I enjoyed attention to detail with the bedding, modern furnishings, safe, flat screen TV, huge closet, lots of big fluffy towels and quality bathroom amenities. All things I didn’t expect at a hotel of this rating. The bed was very comfy. The room was spotless. The in-room wifi worked well every time I logged on.\nThey have a variety of pillow types to try out. Some in-room, some you just order (free). I bring my own pillow when I travel, but it was a fun addition to the room experience.\nCoffee, tea and cookies in the lobby were a nice touch.\nPotential guests should remember this is not a fancy hotel, but it did exceed all my expectations of a -* hotel. I would not hesitate to stay here again, or recommend it to a friend.",
         "Positive",
         "['rude', 'room', 'hotel']"
        ],
        [
         "19320",
         "Superb. From check in to check out, everything was fantastic. The front desk was very warm and welcoming, the décor of the hotel and room was modern and polished, the bathroom was clean (though the shower head could have used more pressure), and the Keurig machine was a nice touch. Also, FREE WIFI! The location is good with cabs lined up in front of the hotel or a ----- minute walk to Dupont Circle. I highly recommend staying here.",
         "Positive",
         "['location', 'room', 'desk']"
        ]
       ],
       "shape": {
        "columns": 3,
        "rows": 10
       }
      },
      "text/html": [
       "<div>\n",
       "<style scoped>\n",
       "    .dataframe tbody tr th:only-of-type {\n",
       "        vertical-align: middle;\n",
       "    }\n",
       "\n",
       "    .dataframe tbody tr th {\n",
       "        vertical-align: top;\n",
       "    }\n",
       "\n",
       "    .dataframe thead th {\n",
       "        text-align: right;\n",
       "    }\n",
       "</style>\n",
       "<table border=\"1\" class=\"dataframe\">\n",
       "  <thead>\n",
       "    <tr style=\"text-align: right;\">\n",
       "      <th></th>\n",
       "      <th>Description</th>\n",
       "      <th>Sentiment</th>\n",
       "      <th>Top_Words</th>\n",
       "    </tr>\n",
       "  </thead>\n",
       "  <tbody>\n",
       "    <tr>\n",
       "      <th>38483</th>\n",
       "      <td>The hotel is in Times Square as the name state...</td>\n",
       "      <td>Positive</td>\n",
       "      <td>[looks, day, funny]</td>\n",
       "    </tr>\n",
       "    <tr>\n",
       "      <th>4206</th>\n",
       "      <td>We resisted advise to stay in the heart of Tim...</td>\n",
       "      <td>Positive</td>\n",
       "      <td>[advise, location, blakely]</td>\n",
       "    </tr>\n",
       "    <tr>\n",
       "      <th>30802</th>\n",
       "      <td>The price for my stay in December was approxim...</td>\n",
       "      <td>Negative</td>\n",
       "      <td>[walls, room, night]</td>\n",
       "    </tr>\n",
       "    <tr>\n",
       "      <th>35052</th>\n",
       "      <td>I stayed here for - nights on business and bel...</td>\n",
       "      <td>Negative</td>\n",
       "      <td>[average, room, tired]</td>\n",
       "    </tr>\n",
       "    <tr>\n",
       "      <th>10512</th>\n",
       "      <td>Even though their web site shows bell hops wai...</td>\n",
       "      <td>Negative</td>\n",
       "      <td>[loud, waiting, luckily]</td>\n",
       "    </tr>\n",
       "    <tr>\n",
       "      <th>18197</th>\n",
       "      <td>The Affinia Dumont is certainly all the review...</td>\n",
       "      <td>Positive</td>\n",
       "      <td>[basic, bed, old]</td>\n",
       "    </tr>\n",
       "    <tr>\n",
       "      <th>19754</th>\n",
       "      <td>Really enjoyed the night I stayed at the Hudso...</td>\n",
       "      <td>Positive</td>\n",
       "      <td>[told, weird, small]</td>\n",
       "    </tr>\n",
       "    <tr>\n",
       "      <th>29246</th>\n",
       "      <td>Stayed here on business because my colleague a...</td>\n",
       "      <td>Negative</td>\n",
       "      <td>[told, average, ok]</td>\n",
       "    </tr>\n",
       "    <tr>\n",
       "      <th>19144</th>\n",
       "      <td>The hotel is a great value for Union Square. I...</td>\n",
       "      <td>Positive</td>\n",
       "      <td>[rude, room, hotel]</td>\n",
       "    </tr>\n",
       "    <tr>\n",
       "      <th>19320</th>\n",
       "      <td>Superb. From check in to check out, everything...</td>\n",
       "      <td>Positive</td>\n",
       "      <td>[location, room, desk]</td>\n",
       "    </tr>\n",
       "  </tbody>\n",
       "</table>\n",
       "</div>"
      ],
      "text/plain": [
       "                                             Description Sentiment  \\\n",
       "38483  The hotel is in Times Square as the name state...  Positive   \n",
       "4206   We resisted advise to stay in the heart of Tim...  Positive   \n",
       "30802  The price for my stay in December was approxim...  Negative   \n",
       "35052  I stayed here for - nights on business and bel...  Negative   \n",
       "10512  Even though their web site shows bell hops wai...  Negative   \n",
       "18197  The Affinia Dumont is certainly all the review...  Positive   \n",
       "19754  Really enjoyed the night I stayed at the Hudso...  Positive   \n",
       "29246  Stayed here on business because my colleague a...  Negative   \n",
       "19144  The hotel is a great value for Union Square. I...  Positive   \n",
       "19320  Superb. From check in to check out, everything...  Positive   \n",
       "\n",
       "                         Top_Words  \n",
       "38483          [looks, day, funny]  \n",
       "4206   [advise, location, blakely]  \n",
       "30802         [walls, room, night]  \n",
       "35052       [average, room, tired]  \n",
       "10512     [loud, waiting, luckily]  \n",
       "18197            [basic, bed, old]  \n",
       "19754         [told, weird, small]  \n",
       "29246          [told, average, ok]  \n",
       "19144          [rude, room, hotel]  \n",
       "19320       [location, room, desk]  "
      ]
     },
     "execution_count": 172,
     "metadata": {},
     "output_type": "execute_result"
    }
   ],
   "source": [
    "test_data[['Description', 'Sentiment', 'Top_Words']].head(10)"
   ]
  }
 ],
 "metadata": {
  "kernelspec": {
   "display_name": "lign167",
   "language": "python",
   "name": "python3"
  },
  "language_info": {
   "codemirror_mode": {
    "name": "ipython",
    "version": 3
   },
   "file_extension": ".py",
   "mimetype": "text/x-python",
   "name": "python",
   "nbconvert_exporter": "python",
   "pygments_lexer": "ipython3",
   "version": "3.12.5"
  }
 },
 "nbformat": 4,
 "nbformat_minor": 2
}
